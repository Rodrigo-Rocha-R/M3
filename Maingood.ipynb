{
 "cells": [
  {
   "cell_type": "markdown",
   "metadata": {
    "id": "iyZ1IGeB64OY"
   },
   "source": [
    "# Project: Traffic Simulation Model\n"
   ]
  },
  {
   "cell_type": "markdown",
   "metadata": {},
   "source": [
    "## Introduction"
   ]
  },
  {
   "cell_type": "markdown",
   "metadata": {},
   "source": [
    "This project implements a traffic simulation model using the Mesa framework. The simulation aims to model the movement of cars within a city grid, incorporating traffic lights and parking spots. The primary goal is to simulate realistic traffic behavior, including car movements, traffic light interactions, and parking dynamics.\n",
    "\n",
    "The simulation is built on a 24x24 grid, where each cell can represent different elements such as roads, buildings, parking spots, and traffic lights. Car agents navigate through the grid based on predefined directional coordinates and traffic light states, aiming to reach their target parking spots.\n",
    "\n",
    "Key features of the project include:\n",
    "\n",
    "- Car Agents: Simulated cars that move around the grid, following traffic rules and aiming to park in available spots.\n",
    "- Traffic Light Agents: Traffic lights that control the flow of car agents at intersections, switching between red and green states.\n",
    "- Grid Representation: A multi-layer grid that includes buildings, roads, and parking spots.\n",
    "- Visualization: Tools for visualizing the simulation, including the positions of car agents and the states of traffic lights.\n",
    "\n",
    "The project leverages the Mesa framework for agent-based modeling and includes various components for data collection and visualization to analyze the simulation results."
   ]
  },
  {
   "cell_type": "markdown",
   "metadata": {},
   "source": [
    "## Installation\n"
   ]
  },
  {
   "cell_type": "markdown",
   "metadata": {},
   "source": [
    "\n",
    "To set up the project, you need to install several dependencies. These libraries are essential for running the traffic simulation model and visualizing the results.\n",
    "\n",
    "### Required Libraries\n",
    "\n",
    "- **Mesa (version 3.1.0.dev)**: A Python framework for agent-based modeling. It provides the core functionality for creating and managing agents, as well as tools for visualization and data collection.\n",
    "- **Seaborn**: A data visualization library based on Matplotlib. It is used for creating informative and attractive statistical graphics.\n",
    "- **Solara**: A library for building interactive web applications in Python. It is used for creating interactive visualizations of the simulation.\n",
    "- **Pandas**: A powerful data manipulation and analysis library. It is used for handling and analyzing data within the simulation.\n",
    "- **NumPy**: A fundamental package for scientific computing with Python. It is used for numerical operations and handling arrays.\n",
    "- **Random**: A module for generating random numbers. It is used for randomizing agent behaviors and movements.\n",
    "- **Time**: A module for time-related functions. It is used for managing simulation timing and delays.\n",
    "\n",
    "### Installation Steps\n",
    "\n",
    "To install the required libraries, you can use the following commands:\n",
    "```python\n",
    "#%pip install --quiet --upgrade mesa==3.1.0.dev\n",
    "#%pip install solara\n",
    "#%pip install seaborn\n",
    "#%pip install pandas\n",
    "#%pip install numpy"
   ]
  },
  {
   "cell_type": "code",
   "execution_count": 79,
   "metadata": {
    "id": "lhn6OMvm7JOw"
   },
   "outputs": [
    {
     "name": "stdout",
     "output_type": "stream",
     "text": [
      "Mesa version: 3.1.0.dev\n"
     ]
    }
   ],
   "source": [
    "\n",
    "import time\n",
    "# Data visualization tools.\n",
    "import seaborn as sns\n",
    "import random\n",
    "import numpy as np\n",
    "\n",
    "# Data manipulation and analysis.\n",
    "import pandas as pd\n",
    "\n",
    "#Mesa library\n",
    "import mesa\n",
    "from mesa.visualization.utils import update_counter\n",
    "from mesa.visualization import SolaraViz, make_plot_component, make_space_component\n",
    "from mesa.datacollection import DataCollector\n",
    "print(f\"Mesa version: {mesa.__version__}\")\n"
   ]
  },
  {
   "cell_type": "markdown",
   "metadata": {},
   "source": [
    "## Map Construction\n",
    "\n"
   ]
  },
  {
   "cell_type": "markdown",
   "metadata": {},
   "source": [
    "In this section, we will define the structure and layout of the simulation environment. The map construction involves setting up a grid that represents the city, including buildings, parking spots, directional coordinates, and traffic lights. Each of these elements plays a crucial role in the simulation:\n",
    "\n",
    "- **Buildings**: Represent static structures within the city grid. They serve as obstacles that car agents must navigate around.\n",
    "- **Parking Spots**: Designated areas where car agents aim to park. These spots are the primary destinations for the car agents.\n",
    "- **Directional Coordinates**: Predefined paths that guide the movement of car agents through the grid. These coordinates help simulate realistic traffic flow.\n",
    "- **Traffic Lights**: Control the flow of car agents at intersections. They switch between red and green states to manage traffic and prevent collisions.\n",
    "\n",
    "We will use the Mesa framework to create and manage the grid, ensuring that all elements are correctly placed and interact as expected. The map construction is a crucial step in creating a realistic and functional traffic simulation model."
   ]
  },
  {
   "cell_type": "markdown",
   "metadata": {},
   "source": [
    "#### Buildings"
   ]
  },
  {
   "cell_type": "code",
   "execution_count": 80,
   "metadata": {},
   "outputs": [],
   "source": [
    "from mapBuild.buildings import buildings_coords"
   ]
  },
  {
   "cell_type": "markdown",
   "metadata": {},
   "source": [
    "#### Parking spots"
   ]
  },
  {
   "cell_type": "code",
   "execution_count": 81,
   "metadata": {},
   "outputs": [],
   "source": [
    "from mapBuild.parkingSpots import parking_spots"
   ]
  },
  {
   "cell_type": "markdown",
   "metadata": {},
   "source": [
    "#### Direccional coords(Left, Right, Down, Up)"
   ]
  },
  {
   "cell_type": "code",
   "execution_count": 82,
   "metadata": {},
   "outputs": [],
   "source": [
    "from mapBuild.leftCoords import left_coords\n",
    "from mapBuild.rightCoords import right_coords\n",
    "from mapBuild.upCoords import up_coords\n",
    "from mapBuild.downCoords import down_coords"
   ]
  },
  {
   "cell_type": "markdown",
   "metadata": {},
   "source": [
    "#### Traffic Lights"
   ]
  },
  {
   "cell_type": "code",
   "execution_count": 83,
   "metadata": {},
   "outputs": [],
   "source": [
    "from mapBuild.trafficLights import traffic_light_coords"
   ]
  },
  {
   "attachments": {},
   "cell_type": "markdown",
   "metadata": {},
   "source": [
    "## Traffic Model"
   ]
  },
  {
   "cell_type": "markdown",
   "metadata": {},
   "source": [
    "In this section, we will explain the traffic simulation model, its components, and main functionalities. The model is designed to simulate the movement of car agents within a city grid, incorporating traffic lights and parking spots to create a realistic traffic environment.\n",
    "\n",
    "### Components\n",
    "\n",
    "1. **Car Agents**:\n",
    "   - **Purpose**: Simulate individual cars moving through the city grid.\n",
    "   - **Behavior**: Car agents navigate the grid based on directional coordinates, obey traffic lights, and aim to park in available parking spots.\n",
    "\n",
    "2. **Traffic Light Agents**:\n",
    "   - **Purpose**: Control the flow of car agents at intersections.\n",
    "   - **Behavior**: Traffic lights switch between red and green states at regular intervals, managing the movement of car agents and preventing collisions.\n",
    "\n",
    "3. **Grid**:\n",
    "   - **Purpose**: Represent the city layout, including roads, buildings, parking spots, and traffic lights.\n",
    "   - **Structure**: A 24x24 grid where each cell can represent different elements such as roads, buildings, parking spots, and traffic lights.\n",
    "\n",
    "### Main Functionalities\n",
    "\n",
    "1. **Initialization**:\n",
    "   - The model initializes the grid, placing buildings, parking spots, directional coordinates, and traffic lights in their respective positions.\n",
    "   - Car agents are created and placed on the grid, ready to navigate the city.\n",
    "\n",
    "2. **Agent Movement**:\n",
    "   - Car agents move through the grid based on predefined directional coordinates.\n",
    "   - They obey traffic lights and navigate around buildings to reach their target parking spots.\n",
    "\n",
    "3. **Traffic Light Control**:\n",
    "   - Traffic light agents manage the flow of car agents at intersections.\n",
    "   - They switch between red and green states at regular intervals, ensuring smooth traffic flow and preventing collisions.\n",
    "\n",
    "4. **Parking Dynamics**:\n",
    "   - Car agents aim to park in available parking spots.\n",
    "   - The model tracks the occupancy of parking spots and updates the status of car agents accordingly.\n",
    "\n",
    "This comprehensive model allows for the simulation of realistic traffic behavior, providing valuable insights into traffic dynamics and potential improvements for urban planning."
   ]
  },
  {
   "cell_type": "code",
   "execution_count": 84,
   "metadata": {},
   "outputs": [],
   "source": [
    "class TrafficModel(mesa.Model):\n",
    "    def __init__(\n",
    "        self,\n",
    "        width=24,\n",
    "        height=24,\n",
    "        num_agents=1,\n",
    "        left_coords=None,\n",
    "        right_coords=None,\n",
    "        up_coords=None,\n",
    "        down_coords=None,\n",
    "        buildings_coords=None,\n",
    "        parking_coords=None,\n",
    "        traffic_light_coords=None,\n",
    "    ):\n",
    "        super().__init__()\n",
    "        #ATTRIBUTES OF THE MODEL----------------------------------------------------------------------------------\n",
    "        self.random = random.Random()\n",
    "        self.steps = 0\n",
    "\n",
    "        #Parameters\n",
    "        self.width = width\n",
    "        self.height = height\n",
    "        self.num_agents = num_agents\n",
    "        self.parkings_coords = parking_coords\n",
    "        self.traffic_light_coords = traffic_light_coords\n",
    "\n",
    "        # Dictionary to store directions for each cell\n",
    "        self.directions = {}\n",
    "\n",
    "        # Global map to store the positions of all agents at each step\n",
    "        self.global_map = {}\n",
    "        \n",
    "        #Create a dictionary mapping each parking spot to a unique key starting from 1\n",
    "        self.ParkingSpots = {i + 1: spot for i, spot in enumerate(parking_coords)}\n",
    "        \n",
    "        #LAYERS OF THE GRID---------------------------------------\n",
    "        #Layer for buildings\n",
    "        buildingLayer = mesa.space.PropertyLayer(\n",
    "            \"building\", width, height, np.int64(0), np.int64\n",
    "        )\n",
    "        #layer for parking spots\n",
    "        parkingsLayer = mesa.space.PropertyLayer(\n",
    "            \"parking\", width, height, np.int64(0), np.int64\n",
    "        )\n",
    "\n",
    "        # Set the to layer to its corresponding cell\n",
    "        self.set_building_cells(buildings_coords, buildingLayer)\n",
    "        self.set_parking_cells(parking_coords, parkingsLayer)\n",
    "    \n",
    "        # Create a MultiGrid object the two layers\n",
    "        self.grid = mesa.space.MultiGrid(\n",
    "            width, height, True, (buildingLayer, parkingsLayer)\n",
    "        )\n",
    "\n",
    "        #CREATION OF AGENTS IN THE GRID---------------------------------------    \n",
    "        # Initialize the allowed directions for each cell\n",
    "        self.initialize_directions(left_coords, right_coords, up_coords, down_coords)\n",
    "\n",
    "        # Create the CarAgents and place them on the grid\n",
    "        self.create_CarAgents()\n",
    "\n",
    "        # Place the traffic lights on the grid\n",
    "        self.place_TrafficLight_agents()\n",
    "\n",
    "        # Initialize the DataCollector\n",
    "        self.datacollector = mesa.DataCollector(\n",
    "            model_reporters={},\n",
    "            agent_reporters={\n",
    "                \"TargetParkingSpot\": lambda agent: (\n",
    "                    agent.target_parking_spot if isinstance(agent, CarAgent) else None\n",
    "                )\n",
    "            },\n",
    "        )\n",
    "\n",
    "        # Collect initial data\n",
    "        self.datacollector.collect(self)\n",
    "\n",
    "    #INITIALIZER METHODS----------------------------------------------------------------------------------\n",
    "    # Initialize allowed directions for each cell in the grid\n",
    "    def initialize_directions(self, left_coords, right_coords, up_coords, down_coords):\n",
    "        for x in range(self.width):\n",
    "            for y in range(self.height):\n",
    "                self.directions[(x, y)] = {\n",
    "                    \"left\": False,\n",
    "                    \"right\": False,\n",
    "                    \"up\": False,\n",
    "                    \"down\": False,\n",
    "                }\n",
    "\n",
    "        # Set specific directions for each list\n",
    "        for coord in left_coords:\n",
    "            if coord in self.directions:\n",
    "                self.directions[coord][\"left\"] = True\n",
    "\n",
    "        for coord in right_coords:\n",
    "            if coord in self.directions:\n",
    "                self.directions[coord][\"right\"] = True\n",
    "\n",
    "        for coord in up_coords:\n",
    "            if coord in self.directions:\n",
    "                self.directions[coord][\"up\"] = True\n",
    "\n",
    "        for coord in down_coords:\n",
    "            if coord in self.directions:\n",
    "                self.directions[coord][\"down\"] = True\n",
    "\n",
    "     # Create agents and place them on the grid\n",
    "    def create_CarAgents(self):\n",
    "        used_parking_spots = set()\n",
    "\n",
    "        for i in range(self.num_agents):\n",
    "            available_spawn_spots = [\n",
    "                spot\n",
    "                for spot in self.ParkingSpots.values()\n",
    "                if spot not in used_parking_spots\n",
    "            ]\n",
    "\n",
    "            if available_spawn_spots:\n",
    "                Spawn = random.choice(available_spawn_spots)\n",
    "            else:\n",
    "                # If no available spots for spawning, take some action (e.g., break or similar)\n",
    "                print(\"No available spots for spawn\")\n",
    "                break\n",
    "\n",
    "            used_parking_spots.add(Spawn)\n",
    "\n",
    "            # Create a list of available spots for the target parking (excluding the spawn spot and used spots)\n",
    "            available_target_spots = [\n",
    "                spot\n",
    "                for spot in self.ParkingSpots.values()\n",
    "                if spot != Spawn and spot not in used_parking_spots\n",
    "            ]\n",
    "\n",
    "            if available_target_spots:\n",
    "                target_parking_spot = random.choice(available_target_spots)\n",
    "            else:\n",
    "                # If no available spots for target parking, take some action (e.g., break or continue)\n",
    "                print(\"No available spots for target parking\")\n",
    "                break  # or continue with some other action.\n",
    "\n",
    "            # Mark the target spot as used\n",
    "            used_parking_spots.add(target_parking_spot)\n",
    "\n",
    "            print(f\"Spawn: ({Spawn}), Target: ({target_parking_spot})\")\n",
    "\n",
    "            agent = CarAgent(\n",
    "                self, Spawn, target_parking_spot\n",
    "            )  # Pass the coordinates\n",
    "\n",
    "            # Place the agent in the 'Spawn' cell using the correct coordinates\n",
    "            self.grid.place_agent(agent, Spawn)\n",
    "\n",
    "    # Place traffic light agents on the grid\n",
    "    \n",
    "    def place_TrafficLight_agents(self):\n",
    "        # Recorre los semáforos en traffic_light_coords\n",
    "        for idx, traffic_light_info in enumerate(self.traffic_light_coords):\n",
    "            traffic_light_id = f\"sema_{idx}\"\n",
    "            positions = traffic_light_info[:2]  # Las primeras dos coordenadas son las del semáforo\n",
    "            initial_state = traffic_light_info[2]  # El estado inicial (verde, rojo, etc.)\n",
    "            print(f\"Initial state: {initial_state}\")\n",
    "\n",
    "            # Crear semáforos y vincularlos con sus pares\n",
    "            previous_traffic_light = None  \n",
    "            # Recorre las coordenadas de los semáforos para emparejarlos\n",
    "            \n",
    "            for i, pos in enumerate(positions):\n",
    "                # Si no es el primer semáforo, vincula al anterior como par\n",
    "                if previous_traffic_light:\n",
    "                    sema_agent = TrafficLightAgent(\n",
    "                        traffic_light_id, initial_state, self, previous_traffic_light\n",
    "                    )\n",
    "                    previous_traffic_light.mirror_traffic_light = sema_agent  # El semáforo anterior ahora tiene su par\n",
    "                    print(f\"Traffic light {traffic_light_id} at {pos} mirror with {previous_traffic_light.unique_id} at {previous_traffic_light.pos}\")\n",
    "                else:\n",
    "                    sema_agent = TrafficLightAgent(traffic_light_id, initial_state, self)\n",
    "\n",
    "                # Coloca el semáforo en la cuadrícula\n",
    "                self.grid.place_agent(sema_agent, pos)\n",
    "                previous_traffic_light = sema_agent  # Actualiza la referencia al último semáforo creado\n",
    "\n",
    "\n",
    "\n",
    "    #GETTER METHODS----------------------------------------------------------------------------------\n",
    "    # Fetch the direction info for a specific cell\n",
    "    def get_cell_directions(self, pos):    \n",
    "        return self.directions.get(pos, None)\n",
    "\n",
    "    # Create a global map of the current state of the simulation\n",
    "    def get_global_map(self):\n",
    "        # Add the current step and agents' positions to the global_map\n",
    "        self.global_map = {\n",
    "            \"Cars\": [],\n",
    "            \"Traffic_Lights\": {}\n",
    "        }\n",
    "\n",
    "        # Collect all CarAgents and TrafficLightAgents and sort them by unique_id\n",
    "        car_agents = []\n",
    "        trafficLight = {}\n",
    "\n",
    "        for contents, (x, y) in self.grid.coord_iter():\n",
    "            for agent in contents:\n",
    "                if isinstance(agent, CarAgent):\n",
    "                    car_agents.append(agent)\n",
    "                elif isinstance(agent, TrafficLightAgent):\n",
    "                    trafficLight[agent.unique_id] = agent.state == 1\n",
    "\n",
    "        car_agents.sort(key=lambda agent: agent.unique_id)\n",
    "\n",
    "        # Append the positions of the sorted CarAgents to the global_map\n",
    "        for agent in car_agents:\n",
    "            self.global_map[\"Cars\"].append(agent.pos)\n",
    "\n",
    "        # Append the traffic light states to the global_map\n",
    "        self.global_map[\"Traffic_Lights\"] = trafficLight\n",
    "        print(self.global_map)\n",
    "        \n",
    "    # LAYER METHODS----------------------------------------------------------------------------------\n",
    "    # Set the value of cells to indicate buildings\n",
    "    def set_building_cells(self, buildings_coords, buildingLayer):\n",
    "        for coord in buildings_coords:\n",
    "            buildingLayer.set_cell(coord, 1)\n",
    "\n",
    "    # Set the value of cells to indicate parking spots\n",
    "    def set_parking_cells(self, parking_coords, parkingsLayer):\n",
    "\n",
    "        for coord in parking_coords:\n",
    "            parkingsLayer.set_cell(coord, 1)\n",
    "\n",
    "    # STEP METHOD----------------------------------------------------------------------------------\n",
    "    # Execute one step of the model, shuffle agents, and collect data\n",
    "    def step(self):\n",
    "        # Shuffle and execute the step method for all agents\n",
    "        self.agents.shuffle_do(\"step\")\n",
    "        # Collect data for the current step\n",
    "        self.datacollector.collect(self)\n",
    "        # Create a global map of the current state\n",
    "        self.get_global_map()"
   ]
  },
  {
   "attachments": {},
   "cell_type": "markdown",
   "metadata": {
    "id": "A_3NEal1hla2"
   },
   "source": [
    "\n",
    "## Car Agent\n"
   ]
  },
  {
   "cell_type": "markdown",
   "metadata": {},
   "source": [
    "### Main points of the agent's functionality:\n",
    "\n",
    "- Initialization:\n",
    "Each agent has a unique ID and is created with the model. \n",
    "It is randomly positioned on the model's grid.\n",
    "- Movement:\n",
    "The main movement method is `move()`.\n",
    "This method is called at each model step `step()`.\n",
    "- Directions:\n",
    "A dictionary of directions is used: \"up,\" \"down,\" \"left,\" \"right\".\n",
    "- Choosing a random direction:\n",
    "A random direction is selected from those allowed in the current cell.\n",
    "- Checking for an empty space:\n",
    "Before moving, it checks if the new space is empty."
   ]
  },
  {
   "attachments": {},
   "cell_type": "markdown",
   "metadata": {
    "id": "FqFZy3zzs5hv"
   },
   "source": [
    "**Basic Configuration:**\n",
    "- Defines the width and height of the grid (default is 24x24). \n",
    "Sets the number of agents (default is 10).\n",
    "- Path Customization:\n",
    "Allows defining custom paths using lists of coordinates (x, y) for each direction (up, down, left, right).\n",
    "- Model Initialization: \n",
    "Creates a two-dimensional grid (MultiGrid). \n",
    "Initializes the scheduler to manage model steps.\n",
    "- Agent Creation: \n",
    "Randomly places agents on the grid.\n",
    "- Direction Initialization: \n",
    "Uses the initialize_directions() method to set up allowed directions in each cell based on the provided lists.\n",
    "- Model Steps: The step() method is called at each step to update the state of all agents."
   ]
  },
  {
   "cell_type": "code",
   "execution_count": 85,
   "metadata": {
    "id": "eEcDBzYRksJz"
   },
   "outputs": [],
   "source": [
    "class CarAgent(mesa.Agent):\n",
    "    def __init__(self, model, spawn_position, target_parking_spot):\n",
    "        super().__init__(model)\n",
    "        self.active = True\n",
    "        self.parking_spots = [coord for coord in model.parkings_coords if coord != spawn_position]\n",
    "        self.distance_travelled = 0\n",
    "        self.target_parking_spot = random.choice(list(model.ParkingSpots.values()))\n",
    "\n",
    "    def check_semaphore(self, current_position): #for future implementation, check if the agent is a car\n",
    "        agents_at_position = self.model.grid.get_cell_list_contents([current_position])\n",
    "        semaphore_agent = None\n",
    "        for agent in agents_at_position:\n",
    "            if agent.__class__ == TrafficLightAgent:\n",
    "                semaphore_agent = agent\n",
    "        if semaphore_agent is None:\n",
    "            return True\n",
    "        else:\n",
    "            if semaphore_agent.state == \"red\":\n",
    "                print(f\"Semaphore at {current_position} is red; agent cannot move.\")\n",
    "                return False\n",
    "            elif semaphore_agent.state == \"green\":\n",
    "                print(f\"Semaphore at {current_position} is green; agent can move.\")\n",
    "                return True\n",
    "            \n",
    "    def check_agent(self, new_position):\n",
    "        agents_at_position = self.model.grid.get_cell_list_contents([new_position])\n",
    "        car_agent = None\n",
    "        for agent in agents_at_position:\n",
    "            if agent.__class__ == CarAgent:\n",
    "                car_agent = agent\n",
    "        if car_agent is None: \n",
    "            return True\n",
    "        else:\n",
    "            return False\n",
    "\n",
    "    def move(self):\n",
    "# Get current position and allowed directions\n",
    "        current_position = self.pos\n",
    "        possible_current_directions = self.model.get_cell_directions(current_position)\n",
    "        \n",
    "        # Check for any available directions in this cell\n",
    "        if not possible_current_directions:\n",
    "            print(f\"No directions available for agent at position {current_position}\")\n",
    "            return\n",
    "\n",
    "        # Filter allowed directions and select one randomly\n",
    "        possible_directions = [direction for direction, allowed in possible_current_directions.items() if allowed]\n",
    "        if not possible_directions:\n",
    "            print(f\"No movement options for agent at position {current_position}\")\n",
    "            return\n",
    "\n",
    "        # Checks if it can move acccording to the sempahore\n",
    "        if not self.check_semaphore(current_position):\n",
    "            return \n",
    "\n",
    "        direction = random.choice(possible_directions)\n",
    "\n",
    "        # Calculate the new position based on the chosen direction\n",
    "        dx, dy = {\n",
    "            \"up\": (0, 1),\n",
    "            \"down\": (0, -1),\n",
    "            \"left\": (-1, 0),\n",
    "            \"right\": (1, 0)\n",
    "        }[direction]\n",
    "\n",
    "        new_position = (self.pos[0] + dx, self.pos[1] + dy)\n",
    "        if not self.check_agent(new_position):\n",
    "            return \n",
    "        \n",
    "        self.model.grid.move_agent(self, new_position)\n",
    "        self.distance_travelled += 1  # Increment distance traveled\n",
    "        self.pos = new_position       # Update the position\n",
    "            \n",
    "    def move_to_target(self):\n",
    "        # Moverse hasta alcanzar el destino\n",
    "        while self.active:\n",
    "            if self.pos in self.parking_spots and self.distance_travelled > 0:\n",
    "                self.active = False\n",
    "                break\n",
    "            else:\n",
    "                moved = self.move()\n",
    "                if not moved:  # Si no puede moverse, detener el bucle\n",
    "                    break            \n",
    "            \n",
    "    def step(self):\n",
    "        self.move_to_target()"
   ]
  },
  {
   "attachments": {},
   "cell_type": "markdown",
   "metadata": {},
   "source": [
    "## Traffic Light Agent"
   ]
  },
  {
   "cell_type": "code",
   "execution_count": null,
   "metadata": {},
   "outputs": [],
   "source": [
    "class TrafficLightAgent(mesa.Agent):\n",
    "    def __init__(self, unique_id, state, model, pair_traffic_light=None):\n",
    "        super().__init__(model)\n",
    "        # 1 = yellow, 2 = red, 3 = green\n",
    "        \n",
    "        self.state = state  \n",
    "        self.time_counter = 0\n",
    "        self.mirror_traffic_light = pair_traffic_light\n",
    "        \n",
    "        self.pair_traffic_light = pair_traffic_light  # Referencia al semáforo par\n",
    "        \n",
    "    \n",
    "    def change_state(self):\n",
    "        if self.state == 3:\n",
    "            self.state = 2  # Si está verde, cambia a rojo\n",
    "        elif self.state == 2:\n",
    "            self.state = 1  # Si está rojo, cambia a amarillo\n",
    "        else:\n",
    "            self.state = 3  # Si está amarillo, cambia a verde\n",
    "        \n",
    "        # Cambiar el estado del semáforo par si existe\n",
    "        #Modificar Nicole\n",
    "        \n",
    "        \n",
    "        if self.mirror_traffic_light:\n",
    "            if self.state == 3:\n",
    "                self.mirror_traffic_light.state = 3  # El par pasa a rojo\n",
    "            elif self.state == 2:\n",
    "                self.mirror_traffic_light.state = 2  # El par pasa a amarillo\n",
    "            else:\n",
    "                self.mirror_traffic_light.state = 1  # El par pasa a verde\n",
    "        \n",
    "        ''' \n",
    "        if self.mirror_traffic_light:\n",
    "            if self.state == 3:\n",
    "                self.mirror_traffic_light.state = 2  # El par pasa a rojo\n",
    "            elif self.state == 2:\n",
    "                self.mirror_traffic_light.state = 1  # El par pasa a amarillo\n",
    "            else:\n",
    "                self.mirror_traffic_light.state = 3  # El par pasa a verde\n",
    "        '''\n",
    "    \n",
    "    \n",
    "    def step(self):\n",
    "        # Incrementar el contador de tiempo\n",
    "        self.time_counter += 1\n",
    "        if self.time_counter >= 10:  # Cambiar estado cada 30 pasos\n",
    "            self.change_state()\n",
    "            self.time_counter = 0\n"
   ]
  },
  {
   "cell_type": "markdown",
   "metadata": {},
   "source": [
    "## Model Deployment "
   ]
  },
  {
   "cell_type": "code",
   "execution_count": 87,
   "metadata": {},
   "outputs": [
    {
     "name": "stdout",
     "output_type": "stream",
     "text": [
      "Spawn: ((17, 21)), Target: ((10, 19))\n",
      "Spawn: ((9, 2)), Target: ((4, 12))\n",
      "Spawn: ((20, 4)), Target: ((17, 4))\n",
      "Spawn: ((10, 7)), Target: ((5, 17))\n",
      "Spawn: ((4, 3)), Target: ((2, 14))\n",
      "Initial state: 1\n",
      "Traffic light sema_0 at (7, 21) mirror with 6 at (6, 21)\n",
      "Initial state: 1\n",
      "Traffic light sema_1 at (8, 23) mirror with 8 at (8, 22)\n",
      "Initial state: 1\n",
      "Traffic light sema_2 at (7, 16) mirror with 10 at (6, 16)\n",
      "Initial state: 1\n",
      "Traffic light sema_3 at (8, 17) mirror with 12 at (8, 18)\n",
      "Initial state: 1\n",
      "Traffic light sema_4 at (1, 6) mirror with 14 at (0, 6)\n",
      "Initial state: 1\n",
      "Traffic light sema_5 at (2, 5) mirror with 16 at (2, 4)\n",
      "Initial state: 1\n",
      "Traffic light sema_6 at (5, 1) mirror with 18 at (5, 0)\n",
      "Initial state: 1\n",
      "Traffic light sema_7 at (7, 2) mirror with 20 at (6, 2)\n",
      "Initial state: 1\n",
      "Traffic light sema_8 at (17, 9) mirror with 22 at (17, 8)\n",
      "Initial state: 1\n",
      "Traffic light sema_9 at (19, 7) mirror with 24 at (18, 7)\n",
      "Coordenadas de los agentes:\n",
      "Agente en posición: (17, 21)\n",
      "Agente en posición: (9, 2)\n",
      "Agente en posición: (20, 4)\n",
      "Agente en posición: (10, 7)\n",
      "Agente en posición: (4, 3)\n"
     ]
    }
   ],
   "source": [
    "# Crear una instancia de TrafficModel\n",
    "model = TrafficModel(24, 24, 5, left_coords, right_coords, up_coords, down_coords, buildings_coords, parking_spots, traffic_light_coords)\n",
    "\n",
    "# Crear una matriz para contar los agentes de tipo CarAgent\n",
    "agent_counts = np.zeros((model.grid.width, model.grid.height))\n",
    "\n",
    "# Imprimir las coordenadas de los agentes\n",
    "print(\"Coordenadas de los agentes:\")\n",
    "for agent in model.agents:  # Itera sobre todos los agentes en el modelo\n",
    "    if isinstance(agent, CarAgent):  # Verifica si es un CarAgent\n",
    "        print(f\"Agente en posición: {agent.pos}\")\n",
    "\n"
   ]
  },
  {
   "cell_type": "code",
   "execution_count": 88,
   "metadata": {
    "id": "Xm2MILQRY0Y_"
   },
   "outputs": [
    {
     "name": "stdout",
     "output_type": "stream",
     "text": [
      "{'Cars': [(17, 22), (9, 1), (19, 4), (10, 8), (4, 4)], 'Traffic_Lights': {14: True, 15: True, 16: True, 17: True, 18: True, 19: True, 20: True, 10: True, 6: True, 21: True, 11: True, 7: True, 13: True, 12: True, 8: True, 9: True, 22: True, 23: True, 24: True, 25: True}}\n",
      "{'Cars': [(16, 22), (10, 1), (20, 4), (10, 7), (3, 4)], 'Traffic_Lights': {14: True, 15: True, 16: True, 17: True, 18: True, 19: True, 20: True, 10: True, 6: True, 21: True, 11: True, 7: True, 13: True, 12: True, 8: True, 9: True, 22: True, 23: True, 24: True, 25: True}}\n",
      "{'Cars': [(15, 22), (11, 1), (19, 4), (10, 8), (2, 4)], 'Traffic_Lights': {14: True, 15: True, 16: True, 17: True, 18: True, 19: True, 20: True, 10: True, 6: True, 21: True, 11: True, 7: True, 13: True, 12: True, 8: True, 9: True, 22: True, 23: True, 24: True, 25: True}}\n",
      "{'Cars': [(14, 22), (12, 1), (20, 4), (11, 8), (2, 4)], 'Traffic_Lights': {14: True, 15: True, 16: True, 17: True, 18: True, 19: True, 20: True, 10: True, 6: True, 21: True, 11: True, 7: True, 13: True, 12: True, 8: True, 9: True, 22: True, 23: True, 24: True, 25: True}}\n",
      "{'Cars': [(13, 22), (13, 1), (19, 4), (12, 8), (2, 4)], 'Traffic_Lights': {14: True, 15: True, 16: True, 17: True, 18: True, 19: True, 20: True, 10: True, 6: True, 21: True, 11: True, 7: True, 13: True, 12: True, 8: True, 9: True, 22: True, 23: True, 24: True, 25: True}}\n"
     ]
    }
   ],
   "source": [
    "for i in range(5):  # Eje    cutar el modelo por 10 pasos\n",
    "  model.step()"
   ]
  },
  {
   "cell_type": "markdown",
   "metadata": {},
   "source": [
    "# Visualization 1"
   ]
  },
  {
   "cell_type": "code",
   "execution_count": 89,
   "metadata": {},
   "outputs": [],
   "source": [
    "#%pip install solara"
   ]
  },
  {
   "cell_type": "code",
   "execution_count": 90,
   "metadata": {},
   "outputs": [],
   "source": [
    "import solara\n"
   ]
  },
  {
   "cell_type": "markdown",
   "metadata": {},
   "source": []
  },
  {
   "cell_type": "markdown",
   "metadata": {},
   "source": [
    "Define the agent portrayal function"
   ]
  },
  {
   "cell_type": "code",
   "execution_count": 91,
   "metadata": {
    "id": "jcwflT4ueEFN"
   },
   "outputs": [],
   "source": [
    "def agent_portrayal(agent):\n",
    "    size = 20\n",
    "    color = \"tab:red\"  # Color predeterminado\n",
    "    shape = \"circle\"\n",
    "    \n",
    "    # Verificar el tipo de agente\n",
    "    if isinstance(agent, CarAgent):\n",
    "        size = 50\n",
    "        color = \"tab:blue\"\n",
    "        shape = \"circle\"\n",
    "    elif isinstance(agent, TrafficLightAgent):\n",
    "        size = 20\n",
    "        shape = \"circle\"\n",
    "        if agent.state == 1:  # amarillo\n",
    "            color = \"yellow\"\n",
    "        elif agent.state == 2:  # rojo\n",
    "            color = \"red\"\n",
    "        elif agent.state == 3:  # verde\n",
    "            color = \"green\"\n",
    "\n",
    "    # Devolver un diccionario con los parámetros correctos\n",
    "    return {\"size\": size, \"color\": color}\n"
   ]
  },
  {
   "cell_type": "markdown",
   "metadata": {},
   "source": [
    " Define the model parameters"
   ]
  },
  {
   "cell_type": "code",
   "execution_count": 92,
   "metadata": {},
   "outputs": [],
   "source": [
    "model_params = {\n",
    "    \"num_agents\": {\n",
    "        \"type\": \"SliderInt\",\n",
    "        \"value\": 10,\n",
    "        \"label\": \"Number of agents:\",\n",
    "    },\n",
    "    \"width\": 24,\n",
    "    \"height\": 24,\n",
    "}"
   ]
  },
  {
   "cell_type": "markdown",
   "metadata": {},
   "source": [
    "Create the initial model instance"
   ]
  },
  {
   "cell_type": "code",
   "execution_count": 93,
   "metadata": {
    "id": "ExgYCvb9e8uK"
   },
   "outputs": [
    {
     "name": "stdout",
     "output_type": "stream",
     "text": [
      "Spawn: ((4, 3)), Target: ((17, 21))\n",
      "Spawn: ((3, 21)), Target: ((17, 6))\n",
      "Spawn: ((20, 18)), Target: ((10, 7))\n",
      "Spawn: ((10, 19)), Target: ((9, 2))\n",
      "Spawn: ((5, 17)), Target: ((20, 4))\n",
      "Spawn: ((3, 6)), Target: ((4, 12))\n",
      "Spawn: ((17, 4)), Target: ((10, 12))\n",
      "Initial state: 1\n",
      "Traffic light sema_0 at (7, 21) mirror with 8 at (6, 21)\n",
      "Initial state: 1\n",
      "Traffic light sema_1 at (8, 23) mirror with 10 at (8, 22)\n",
      "Initial state: 1\n",
      "Traffic light sema_2 at (7, 16) mirror with 12 at (6, 16)\n",
      "Initial state: 1\n",
      "Traffic light sema_3 at (8, 17) mirror with 14 at (8, 18)\n",
      "Initial state: 1\n",
      "Traffic light sema_4 at (1, 6) mirror with 16 at (0, 6)\n",
      "Initial state: 1\n",
      "Traffic light sema_5 at (2, 5) mirror with 18 at (2, 4)\n",
      "Initial state: 1\n",
      "Traffic light sema_6 at (5, 1) mirror with 20 at (5, 0)\n",
      "Initial state: 1\n",
      "Traffic light sema_7 at (7, 2) mirror with 22 at (6, 2)\n",
      "Initial state: 1\n",
      "Traffic light sema_8 at (17, 9) mirror with 24 at (17, 8)\n",
      "Initial state: 1\n",
      "Traffic light sema_9 at (19, 7) mirror with 26 at (18, 7)\n"
     ]
    }
   ],
   "source": [
    "initial_model = TrafficModel(\n",
    "    num_agents=7,\n",
    "    width=24,\n",
    "    height=24,\n",
    "    left_coords= left_coords,\n",
    "    right_coords=right_coords,\n",
    "    up_coords=up_coords,\n",
    "    down_coords=down_coords,\n",
    "    buildings_coords=buildings_coords,\n",
    "    parking_coords=parking_spots,\n",
    "    traffic_light_coords=traffic_light_coords\n",
    ")\n",
    "\n"
   ]
  },
  {
   "cell_type": "markdown",
   "metadata": {},
   "source": [
    "Create the visualization components"
   ]
  },
  {
   "cell_type": "code",
   "execution_count": 94,
   "metadata": {
    "id": "T9YbB08oeyZv"
   },
   "outputs": [],
   "source": [
    "propertylayer_portrayal={\"building\": {\"color\":\"blue\",\"colorbar\":False}, \"parking\":{\"color\":\"yellow\",\"colorbar\":False}}\n",
    "SpaceGraph = make_space_component(agent_portrayal, propertylayer_portrayal=propertylayer_portrayal)"
   ]
  },
  {
   "cell_type": "markdown",
   "metadata": {},
   "source": [
    "Create the SolaraViz page"
   ]
  },
  {
   "cell_type": "code",
   "execution_count": 95,
   "metadata": {
    "colab": {
     "base_uri": "https://localhost:8080/",
     "height": 971,
     "referenced_widgets": [
      "abe9fa35972f4fd8a1a08a862ad74cea",
      "d51e77ec1fde49cda87aa46e18fc8285",
      "0e7389f9d7544edf92b0bab60b23bb6c",
      "9e1b7a3518234982b6440f2df584c70b",
      "7d34024b584a43719802e87884d5f270",
      "c158d9351e1f49199adbbf0ceb66d9e5"
     ]
    },
    "id": "c9UCVl8Me06j",
    "outputId": "e457b245-a22e-4d2b-a601-4ab199273924"
   },
   "outputs": [
    {
     "data": {
      "application/vnd.jupyter.widget-view+json": {
       "model_id": "ecb126d354764f929fd85ff6a580c3d0",
       "version_major": 2,
       "version_minor": 0
      },
      "text/html": [
       "Cannot show widget. You probably want to rerun the code cell above (<i>Click in the code cell, and press Shift+Enter <kbd>⇧</kbd>+<kbd>↩</kbd></i>)."
      ],
      "text/plain": [
       "Cannot show ipywidgets in text"
      ]
     },
     "metadata": {},
     "output_type": "display_data"
    }
   ],
   "source": [
    "page = SolaraViz(\n",
    "    initial_model,\n",
    "    components=[SpaceGraph],\n",
    "    model_params=model_params,\n",
    "    name=\"Traffic Simulation\",\n",
    ")\n",
    "page"
   ]
  }
 ],
 "metadata": {
  "colab": {
   "provenance": []
  },
  "kernelspec": {
   "display_name": ".venv",
   "language": "python",
   "name": "python3"
  },
  "language_info": {
   "codemirror_mode": {
    "name": "ipython",
    "version": 3
   },
   "file_extension": ".py",
   "mimetype": "text/x-python",
   "name": "python",
   "nbconvert_exporter": "python",
   "pygments_lexer": "ipython3",
   "version": "3.12.7"
  },
  "widgets": {
   "application/vnd.jupyter.widget-state+json": {
    "0e7389f9d7544edf92b0bab60b23bb6c": {
     "model_module": "@jupyter-widgets/controls",
     "model_module_version": "1.5.0",
     "model_name": "HTMLModel",
     "state": {
      "_dom_classes": [],
      "_model_module": "@jupyter-widgets/controls",
      "_model_module_version": "1.5.0",
      "_model_name": "HTMLModel",
      "_view_count": null,
      "_view_module": "@jupyter-widgets/controls",
      "_view_module_version": "1.5.0",
      "_view_name": "HTMLView",
      "description": "",
      "description_tooltip": null,
      "layout": "IPY_MODEL_7d34024b584a43719802e87884d5f270",
      "placeholder": "​",
      "style": "IPY_MODEL_c158d9351e1f49199adbbf0ceb66d9e5",
      "value": "<pre>Traceback (most recent call last):\n  File &quot;/usr/local/lib/python3.10/dist-packages/reacton/core.py&quot;, line 1707, in _render\n    root_element = el.component.f(*el.args, **el.kwargs)\n  File &quot;/usr/local/lib/python3.10/dist-packages/mesa/visualization/components/matplotlib_components.py&quot;, line 82, in SpaceMatplotlib\n    draw_space(\n  File &quot;/usr/local/lib/python3.10/dist-packages/mesa/visualization/mpl_space_drawing.py&quot;, line 144, in draw_space\n    draw_orthogonal_grid(space, agent_portrayal, ax=ax, **space_drawing_kwargs)\n  File &quot;/usr/local/lib/python3.10/dist-packages/mesa/visualization/mpl_space_drawing.py&quot;, line 272, in draw_orthogonal_grid\n    arguments = collect_agent_data(space, agent_portrayal, size=s_default)\n  File &quot;/usr/local/lib/python3.10/dist-packages/mesa/visualization/mpl_space_drawing.py&quot;, line 79, in collect_agent_data\n    for agent in space.agents:\n  File &quot;/usr/local/lib/python3.10/dist-packages/mesa/space.py&quot;, line 181, in agents\n    rng = agents[0].random\nAttributeError: &#x27;dict&#x27; object has no attribute &#x27;random&#x27;\n</pre>"
     }
    },
    "7d34024b584a43719802e87884d5f270": {
     "model_module": "@jupyter-widgets/base",
     "model_module_version": "1.2.0",
     "model_name": "LayoutModel",
     "state": {
      "_model_module": "@jupyter-widgets/base",
      "_model_module_version": "1.2.0",
      "_model_name": "LayoutModel",
      "_view_count": null,
      "_view_module": "@jupyter-widgets/base",
      "_view_module_version": "1.2.0",
      "_view_name": "LayoutView",
      "align_content": null,
      "align_items": null,
      "align_self": null,
      "border": null,
      "bottom": null,
      "display": null,
      "flex": null,
      "flex_flow": null,
      "grid_area": null,
      "grid_auto_columns": null,
      "grid_auto_flow": null,
      "grid_auto_rows": null,
      "grid_column": null,
      "grid_gap": null,
      "grid_row": null,
      "grid_template_areas": null,
      "grid_template_columns": null,
      "grid_template_rows": null,
      "height": null,
      "justify_content": null,
      "justify_items": null,
      "left": null,
      "margin": null,
      "max_height": null,
      "max_width": null,
      "min_height": null,
      "min_width": null,
      "object_fit": null,
      "object_position": null,
      "order": null,
      "overflow": "auto",
      "overflow_x": null,
      "overflow_y": null,
      "padding": null,
      "right": null,
      "top": null,
      "visibility": null,
      "width": null
     }
    },
    "9e1b7a3518234982b6440f2df584c70b": {
     "model_module": "@jupyter-widgets/base",
     "model_module_version": "1.2.0",
     "model_name": "LayoutModel",
     "state": {
      "_model_module": "@jupyter-widgets/base",
      "_model_module_version": "1.2.0",
      "_model_name": "LayoutModel",
      "_view_count": null,
      "_view_module": "@jupyter-widgets/base",
      "_view_module_version": "1.2.0",
      "_view_name": "LayoutView",
      "align_content": null,
      "align_items": null,
      "align_self": null,
      "border": null,
      "bottom": null,
      "display": null,
      "flex": null,
      "flex_flow": null,
      "grid_area": null,
      "grid_auto_columns": null,
      "grid_auto_flow": null,
      "grid_auto_rows": null,
      "grid_column": null,
      "grid_gap": null,
      "grid_row": null,
      "grid_template_areas": null,
      "grid_template_columns": null,
      "grid_template_rows": null,
      "height": null,
      "justify_content": null,
      "justify_items": null,
      "left": null,
      "margin": null,
      "max_height": null,
      "max_width": null,
      "min_height": null,
      "min_width": null,
      "object_fit": null,
      "object_position": null,
      "order": null,
      "overflow": null,
      "overflow_x": null,
      "overflow_y": null,
      "padding": null,
      "right": null,
      "top": null,
      "visibility": null,
      "width": null
     }
    },
    "abe9fa35972f4fd8a1a08a862ad74cea": {
     "model_module": "jupyter-vue",
     "model_module_version": "3.0.0-alpha.4",
     "model_name": "HtmlModel",
     "state": {
      "_dom_classes": [],
      "_events": [],
      "_jupyter_vue": "IPY_MODEL_e2521c7987974b29aa7fe086f445c08e",
      "_model_module": "jupyter-vue",
      "_model_module_version": "3.0.0-alpha.4",
      "_model_name": "HtmlModel",
      "_view_count": null,
      "_view_module": "jupyter-vue",
      "_view_module_version": "3.0.0-alpha.4",
      "_view_name": "VueView",
      "attributes": {},
      "children": [],
      "class_": null,
      "layout": null,
      "slot": null,
      "style_": "display: none",
      "tag": "span",
      "v_model": "!!disabled!!",
      "v_on": null,
      "v_slots": []
     }
    },
    "c158d9351e1f49199adbbf0ceb66d9e5": {
     "model_module": "@jupyter-widgets/controls",
     "model_module_version": "1.5.0",
     "model_name": "DescriptionStyleModel",
     "state": {
      "_model_module": "@jupyter-widgets/controls",
      "_model_module_version": "1.5.0",
      "_model_name": "DescriptionStyleModel",
      "_view_count": null,
      "_view_module": "@jupyter-widgets/base",
      "_view_module_version": "1.2.0",
      "_view_name": "StyleView",
      "description_width": ""
     }
    },
    "d51e77ec1fde49cda87aa46e18fc8285": {
     "model_module": "@jupyter-widgets/controls",
     "model_module_version": "1.5.0",
     "model_name": "VBoxModel",
     "state": {
      "_dom_classes": [],
      "_model_module": "@jupyter-widgets/controls",
      "_model_module_version": "1.5.0",
      "_model_name": "VBoxModel",
      "_view_count": 1,
      "_view_module": "@jupyter-widgets/controls",
      "_view_module_version": "1.5.0",
      "_view_name": "VBoxView",
      "box_style": "",
      "children": [
       "IPY_MODEL_0e7389f9d7544edf92b0bab60b23bb6c"
      ],
      "layout": "IPY_MODEL_9e1b7a3518234982b6440f2df584c70b"
     }
    }
   }
  }
 },
 "nbformat": 4,
 "nbformat_minor": 0
}
