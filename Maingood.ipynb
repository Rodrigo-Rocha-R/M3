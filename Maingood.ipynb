{
 "cells": [
  {
   "cell_type": "markdown",
   "metadata": {
    "id": "iyZ1IGeB64OY"
   },
   "source": [
    "# Project: Traffic Simulation Model\n"
   ]
  },
  {
   "cell_type": "markdown",
   "metadata": {},
   "source": [
    "## Introduction"
   ]
  },
  {
   "cell_type": "markdown",
   "metadata": {},
   "source": [
    "This project implements a traffic simulation model using the Mesa framework. The simulation aims to model the movement of cars within a city grid, incorporating traffic lights and parking spots. The primary goal is to simulate realistic traffic behavior, including car movements, traffic light interactions, and parking dynamics.\n",
    "\n",
    "The simulation is built on a 24x24 grid, where each cell can represent different elements such as roads, buildings, parking spots, and traffic lights. Car agents navigate through the grid based on predefined directional coordinates and traffic light states, aiming to reach their target parking spots.\n",
    "\n",
    "Key features of the project include:\n",
    "\n",
    "- Car Agents: Simulated cars that move around the grid, following traffic rules and aiming to park in available spots.\n",
    "- Traffic Light Agents: Traffic lights that control the flow of car agents at intersections, switching between red and green states.\n",
    "- Grid Representation: A multi-layer grid that includes buildings, roads, and parking spots.\n",
    "- Visualization: Tools for visualizing the simulation, including the positions of car agents and the states of traffic lights.\n",
    "\n",
    "The project leverages the Mesa framework for agent-based modeling and includes various components for data collection and visualization to analyze the simulation results."
   ]
  },
  {
   "cell_type": "markdown",
   "metadata": {},
   "source": [
    "## Installation\n"
   ]
  },
  {
   "cell_type": "markdown",
   "metadata": {},
   "source": [
    "\n",
    "To set up the project, you need to install several dependencies. These libraries are essential for running the traffic simulation model and visualizing the results.\n",
    "\n",
    "### Required Libraries\n",
    "\n",
    "- **Mesa (version 3.1.0.dev)**: A Python framework for agent-based modeling. It provides the core functionality for creating and managing agents, as well as tools for visualization and data collection.\n",
    "- **Seaborn**: A data visualization library based on Matplotlib. It is used for creating informative and attractive statistical graphics.\n",
    "- **Solara**: A library for building interactive web applications in Python. It is used for creating interactive visualizations of the simulation.\n",
    "- **Pandas**: A powerful data manipulation and analysis library. It is used for handling and analyzing data within the simulation.\n",
    "- **NumPy**: A fundamental package for scientific computing with Python. It is used for numerical operations and handling arrays.\n",
    "- **Random**: A module for generating random numbers. It is used for randomizing agent behaviors and movements.\n",
    "- **Time**: A module for time-related functions. It is used for managing simulation timing and delays.\n",
    "\n",
    "### Installation Steps\n",
    "\n",
    "To install the required libraries, you can use the following commands:\n",
    "```python\n",
    "#%pip install --quiet --upgrade mesa==3.1.0.dev\n",
    "#%pip install solara\n",
    "#%pip install seaborn\n",
    "#%pip install pandas\n",
    "#%pip install numpy"
   ]
  },
  {
   "cell_type": "code",
<<<<<<< HEAD
   "execution_count": 18,
=======
   "execution_count": null,
>>>>>>> parent of bd4b7282 (UpdateETA)
   "metadata": {
    "id": "lhn6OMvm7JOw"
   },
   "outputs": [],
   "source": [
    "\n",
    "import time\n",
    "# Data visualization tools.\n",
    "import seaborn as sns\n",
    "import random\n",
    "import numpy as np\n",
    "\n",
    "# Data manipulation and analysis.\n",
    "import pandas as pd\n",
    "\n",
    "#Mesa library\n",
    "import mesa\n",
    "from mesa.visualization.utils import update_counter\n",
    "from mesa.visualization import SolaraViz, make_plot_component, make_space_component\n",
    "from mesa.datacollection import DataCollector\n",
    "print(f\"Mesa version: {mesa.__version__}\")\n"
   ]
  },
  {
   "cell_type": "markdown",
   "metadata": {},
   "source": [
    "## Map Construction\n",
    "\n"
   ]
  },
  {
   "cell_type": "markdown",
   "metadata": {},
   "source": [
    "In this section, we will define the structure and layout of the simulation environment. The map construction involves setting up a grid that represents the city, including buildings, parking spots, directional coordinates, and traffic lights. Each of these elements plays a crucial role in the simulation:\n",
    "\n",
    "- **Buildings**: Represent static structures within the city grid. They serve as obstacles that car agents must navigate around.\n",
    "- **Parking Spots**: Designated areas where car agents aim to park. These spots are the primary destinations for the car agents.\n",
    "- **Directional Coordinates**: Predefined paths that guide the movement of car agents through the grid. These coordinates help simulate realistic traffic flow.\n",
    "- **Traffic Lights**: Control the flow of car agents at intersections. They switch between red and green states to manage traffic and prevent collisions.\n",
    "\n",
    "We will use the Mesa framework to create and manage the grid, ensuring that all elements are correctly placed and interact as expected. The map construction is a crucial step in creating a realistic and functional traffic simulation model."
   ]
  },
  {
   "cell_type": "markdown",
   "metadata": {},
   "source": [
    "#### Buildings"
   ]
  },
  {
   "cell_type": "code",
<<<<<<< HEAD
   "execution_count": 19,
=======
   "execution_count": null,
>>>>>>> parent of bd4b7282 (UpdateETA)
   "metadata": {},
   "outputs": [],
   "source": [
    "from mapBuild.buildings import buildings_coords"
   ]
  },
  {
   "cell_type": "markdown",
   "metadata": {},
   "source": [
    "#### Parking spots"
   ]
  },
  {
   "cell_type": "code",
<<<<<<< HEAD
   "execution_count": 20,
=======
   "execution_count": null,
>>>>>>> parent of bd4b7282 (UpdateETA)
   "metadata": {},
   "outputs": [],
   "source": [
    "from mapBuild.parkingSpots import parking_spots"
   ]
  },
  {
   "cell_type": "markdown",
   "metadata": {},
   "source": [
    "#### Direccional coords(Left, Right, Down, Up)"
   ]
  },
  {
   "cell_type": "code",
<<<<<<< HEAD
   "execution_count": 21,
=======
   "execution_count": null,
>>>>>>> parent of bd4b7282 (UpdateETA)
   "metadata": {},
   "outputs": [],
   "source": [
    "from mapBuild.leftCoords import left_coords\n",
    "from mapBuild.rightCoords import right_coords\n",
    "from mapBuild.upCoords import up_coords\n",
    "from mapBuild.downCoords import down_coords"
   ]
  },
  {
   "cell_type": "markdown",
   "metadata": {},
   "source": [
    "#### Traffic Lights"
   ]
  },
  {
   "cell_type": "code",
<<<<<<< HEAD
   "execution_count": 22,
=======
   "execution_count": null,
>>>>>>> parent of bd4b7282 (UpdateETA)
   "metadata": {},
   "outputs": [],
   "source": [
    "from mapBuild.trafficLights import traffic_light_coords\n",
    "print(traffic_light_coords)"
   ]
  },
  {
   "attachments": {},
   "cell_type": "markdown",
   "metadata": {},
   "source": [
    "## Traffic Model"
   ]
  },
  {
   "cell_type": "markdown",
   "metadata": {},
   "source": [
    "In this section, we will explain the traffic simulation model, its components, and main functionalities. The model is designed to simulate the movement of car agents within a city grid, incorporating traffic lights and parking spots to create a realistic traffic environment.\n",
    "\n",
    "### Components\n",
    "\n",
    "1. **Car Agents**:\n",
    "   - **Purpose**: Simulate individual cars moving through the city grid.\n",
    "   - **Behavior**: Car agents navigate the grid based on directional coordinates, obey traffic lights, and aim to park in available parking spots.\n",
    "\n",
    "2. **Traffic Light Agents**:\n",
    "   - **Purpose**: Control the flow of car agents at intersections.\n",
    "   - **Behavior**: Traffic lights switch between red and green states at regular intervals, managing the movement of car agents and preventing collisions.\n",
    "\n",
    "3. **Grid**:\n",
    "   - **Purpose**: Represent the city layout, including roads, buildings, parking spots, and traffic lights.\n",
    "   - **Structure**: A 24x24 grid where each cell can represent different elements such as roads, buildings, parking spots, and traffic lights.\n",
    "\n",
    "### Main Functionalities\n",
    "\n",
    "1. **Initialization**:\n",
    "   - The model initializes the grid, placing buildings, parking spots, directional coordinates, and traffic lights in their respective positions.\n",
    "   - Car agents are created and placed on the grid, ready to navigate the city.\n",
    "\n",
    "2. **Agent Movement**:\n",
    "   - Car agents move through the grid based on predefined directional coordinates.\n",
    "   - They obey traffic lights and navigate around buildings to reach their target parking spots.\n",
    "\n",
    "3. **Traffic Light Control**:\n",
    "   - Traffic light agents manage the flow of car agents at intersections.\n",
    "   - They switch between red and green states at regular intervals, ensuring smooth traffic flow and preventing collisions.\n",
    "\n",
    "4. **Parking Dynamics**:\n",
    "   - Car agents aim to park in available parking spots.\n",
    "   - The model tracks the occupancy of parking spots and updates the status of car agents accordingly.\n",
    "\n",
    "This comprehensive model allows for the simulation of realistic traffic behavior, providing valuable insights into traffic dynamics and potential improvements for urban planning."
   ]
  },
  {
   "cell_type": "code",
<<<<<<< HEAD
   "execution_count": 23,
=======
   "execution_count": null,
>>>>>>> parent of bd4b7282 (UpdateETA)
   "metadata": {},
   "outputs": [],
   "source": [
    "\n",
    "\n",
    "class TrafficModel(mesa.Model):\n",
    "    def __init__(\n",
    "        self,\n",
    "        width=24,\n",
    "        height=24,\n",
    "        num_agents=1,\n",
    "        left_coords=None,\n",
    "        right_coords=None,\n",
    "        up_coords=None,\n",
    "        down_coords=None,\n",
    "        buildings_coords=None,\n",
    "        parking_coords=None,\n",
    "        traffic_light_coords=None,\n",
    "    ):\n",
    "        \n",
    "        \n",
    "        \n",
    "        \n",
    "        super().__init__()\n",
    "        #ATTRIBUTES OF THE MODEL----------------------------------------------------------------------------------\n",
    "        self.random = random.Random()\n",
    "        self.steps = 0\n",
    "\n",
    "        #Parameters\n",
    "        self.width = width\n",
    "        self.height = height\n",
    "        self.num_agents = num_agents\n",
    "        self.parkings_coords = parking_coords\n",
    "        self.traffic_light_coords = traffic_light_coords\n",
    "\n",
    "        # Dictionary to store directions for each cell\n",
    "        self.directions = {}\n",
    "\n",
    "        # Global map to store the positions of all agents at each step\n",
    "        self.global_map = {}\n",
    "        self.buildings_coords = buildings_coords\n",
    "        \n",
    "        #Create a dictionary mapping each parking spot to a unique key starting from 1\n",
    "        self.ParkingSpots = {i + 1: spot for i, spot in enumerate(parking_coords)}\n",
    "        \n",
    "        \n",
    "        \n",
    "        #LAYERS OF THE GRID---------------------------------------\n",
    "        #Layer for buildings\n",
    "        buildingLayer = mesa.space.PropertyLayer(\n",
    "            \"building\", width, height, np.int64(0), np.int64\n",
    "        )\n",
    "        #layer for parking spots\n",
    "        parkingsLayer = mesa.space.PropertyLayer(\n",
    "            \"parking\", width, height, np.int64(0), np.int64\n",
    "        )\n",
    "        trafficMonitoringLayer = mesa.space.PropertyLayer(\"traffic_monitoring\", self.width, self.height, np.int64(0), np.int64)\n",
    "        self.set_traffic_monitoring_cells(trafficMonitoringLayer)\n",
    "\n",
    "        # Set the to layer to its corresponding cell\n",
    "        self.set_building_cells(buildings_coords, buildingLayer)\n",
    "        self.set_parking_cells(parking_coords, parkingsLayer)\n",
    "    \n",
    "        # Create a MultiGrid object the two layers\n",
    "        self.grid = mesa.space.MultiGrid(\n",
    "            width, height, True, (buildingLayer, parkingsLayer,trafficMonitoringLayer)\n",
    "        )\n",
    "\n",
    "        #CREATION OF AGENTS IN THE GRID---------------------------------------    \n",
    "        # Initialize the allowed directions for each cell\n",
    "        self.initialize_directions(left_coords, right_coords, up_coords, down_coords)\n",
    "\n",
    "        # Create the CarAgents and place them on the grid\n",
    "        self.create_CarAgents()\n",
    "        self.create_CarAgents_no_target()\n",
    "\n",
    "        # Place the traffic lights on the grid\n",
    "        self.place_TrafficLight_agents()\n",
    "\n",
    "        # Initialize the DataCollector\n",
    "        self.datacollector = mesa.DataCollector(\n",
    "            model_reporters={},\n",
    "            agent_reporters={\n",
    "                \"TargetParkingSpot\": lambda agent: (\n",
    "                    agent.target_parking_spot if isinstance(agent, CarAgent) else None\n",
    "                )\n",
    "            },\n",
    "        )\n",
    "\n",
    "        # Collect initial data\n",
    "        self.datacollector.collect(self)\n",
    "\n",
    "\n",
    "    #INITIALIZER METHODS----------------------------------------------------------------------------------\n",
    "    # Initialize allowed directions for each cell in the grid\n",
    "    def initialize_directions(self, left_coords, right_coords, up_coords, down_coords):\n",
    "        for x in range(self.width):\n",
    "            for y in range(self.height):\n",
    "                self.directions[(x, y)] = {\n",
    "                    \"left\": False,\n",
    "                    \"right\": False,\n",
    "                    \"up\": False,\n",
    "                    \"down\": False,\n",
    "                }\n",
    "                \n",
    "                \n",
    "\n",
    "\n",
    "        # Set specific directions for each list\n",
    "        for coord in left_coords:\n",
    "            if coord in self.directions:\n",
    "                self.directions[coord][\"left\"] = True\n",
    "\n",
    "        for coord in right_coords:\n",
    "            if coord in self.directions:\n",
    "                self.directions[coord][\"right\"] = True\n",
    "\n",
    "        for coord in up_coords:\n",
    "            if coord in self.directions:\n",
    "                self.directions[coord][\"up\"] = True\n",
    "\n",
    "        for coord in down_coords:\n",
    "            if coord in self.directions:\n",
    "                self.directions[coord][\"down\"] = True\n",
    "\n",
    "\n",
    "     # Create agents and place them on the grid\n",
    "    def create_CarAgents(self):\n",
    "        used_parking_spots = set()\n",
    "\n",
    "        for i in range(self.num_agents):\n",
    "            available_spawn_spots = [\n",
    "                spot\n",
    "                for spot in self.ParkingSpots.values()\n",
    "                if spot not in used_parking_spots\n",
    "            ]\n",
    "\n",
    "            if available_spawn_spots:\n",
    "                Spawn = random.choice(available_spawn_spots)\n",
    "            else:\n",
    "                # If no available spots for spawning, take some action (e.g., break or similar)\n",
    "                print(\"No available spots for spawn\")\n",
    "                break\n",
    "\n",
    "            used_parking_spots.add(Spawn)\n",
    "\n",
    "            # Create a list of available spots for the target parking (excluding the spawn spot and used spots)\n",
    "            available_target_spots = [\n",
    "                spot\n",
    "                for spot in self.ParkingSpots.values()\n",
    "                if spot != Spawn and spot not in used_parking_spots\n",
    "            ]\n",
    "\n",
    "            if available_target_spots:\n",
    "                target_parking_spot = random.choice(available_target_spots)\n",
    "            else:\n",
    "                # If no available spots for target parking, take some action (e.g., break or continue)\n",
    "                print(\"No available spots for target parking\")\n",
    "                break  # or continue with some other action.\n",
    "\n",
    "            # Mark the target spot as used\n",
    "            used_parking_spots.add(target_parking_spot)\n",
    "\n",
    "            print(f\"Spawn: ({Spawn}), Target: ({target_parking_spot})\")\n",
    "\n",
    "            agent = CarAgent(\n",
    "                self, Spawn, target_parking_spot\n",
    "            )  # Pass the coordinates\n",
    "\n",
    "            # Place the agent in the 'Spawn' cell using the correct coordinates\n",
    "            self.grid.place_agent(agent, Spawn)\n",
    "\n",
    "    def create_CarAgents_no_target(self):\n",
    "        \"\"\"Create car agents without a target parking spot.\"\"\"\n",
    "        number_of_cars = 50\n",
    "        all_coords = [(x, y) for x in range(self.width) for y in range(self.height)]\n",
    "        available_coords = [\n",
    "            coord\n",
    "            for coord in all_coords\n",
    "            if coord not in self.parkings_coords and coord not in self.buildings_coords\n",
    "        ]\n",
    "        if len(available_coords) < number_of_cars:\n",
    "            raise ValueError(\"Not enough available coordinates to place all cars.\")\n",
    "        for _ in range(number_of_cars):\n",
    "            spawn_position = random.choice(available_coords)\n",
    "            available_coords.remove(spawn_position)\n",
    "            agent = CarAgent(self, spawn_position, None)\n",
    "            self.grid.place_agent(agent, spawn_position)\n",
    "\n",
    "\n",
    "\n",
    "\n",
    "\n",
    "\n",
    "\n",
    "\n",
    "\n",
    "\n",
    "\n",
    "    # Place traffic light agents on the grid\n",
    "# Place traffic light agents on the grid\n",
    "    def place_TrafficLight_agents(self):\n",
    "        for idx, traffic_light_info in enumerate(self.traffic_light_coords):\n",
    "            traffic_light_id = idx # Unique ID for each traffic light\n",
    "            positions = traffic_light_info[:2]  # Assuming the positions are the first two values\n",
    "            initial_state = traffic_light_info[2]  # The initial state is the third value\n",
    "            monitored_coords = traffic_light_info[3]\n",
    "            #print(f\"Monitored positions: {monitored_coords}\")\n",
    "\n",
    "            # Create the traffic light agent for each position\n",
    "            for pos in positions:\n",
    "                # Ensure the position is passed when creating the agent\n",
    "                sema_agent = TrafficLightAgent(\n",
    "                    traffic_light_id, initial_state, self,monitored_positions=monitored_coords\n",
    "\n",
    "                )  # Assign the ID, state, model, and position\n",
    "\n",
    "                # Place the agent on the grid\n",
    "                self.grid.place_agent(sema_agent, pos)\n",
    "\n",
    "                # Print information about the placed agent\n",
    "                #print(f\"Placed TrafficLightAgent: ID={sema_agent.unique_id}, State={sema_agent.state}, Position={sema_agent.pos}\")\n",
    "                \n",
    "                \n",
    "\n",
    "                \n",
    "\n",
    "\n",
    "\n",
    "\n",
    "\n",
    "\n",
    "\n",
    "\n",
    "\n",
    "\n",
    "\n",
    "                \n",
    "                \n",
    "    #GETTER METHODS----------------------------------------------------------------------------------\n",
    "    # Fetch the direction info for a specific cell\n",
    "    def get_cell_directions(self, pos):    \n",
    "        return self.directions.get(pos, None)\n",
    "\n",
    "    # Create a global map of the current state of the simulation\n",
    "    def get_global_map(self):\n",
    "        # Add the current step and agents' positions to the global_map\n",
    "        self.global_map = {\n",
    "            \"Cars\": [],\n",
    "            \"Traffic_Lights\": {}\n",
    "        }\n",
    "\n",
    "        # Collect all CarAgents and TrafficLightAgents and sort them by unique_id\n",
    "        car_agents = []\n",
    "        trafficLight = {}\n",
    "\n",
    "        for contents, (x, y) in self.grid.coord_iter():\n",
    "            for agent in contents:\n",
    "                if isinstance(agent, CarAgent):\n",
    "                    car_agents.append(agent)\n",
    "                elif isinstance(agent, TrafficLightAgent):\n",
    "                    trafficLight[agent.unique_id] = agent.state == 2\n",
    "\n",
    "        car_agents.sort(key=lambda agent: agent.unique_id)\n",
    "\n",
    "        # Append the positions of the sorted CarAgents to the global_map\n",
    "        for agent in car_agents:\n",
    "            self.global_map[\"Cars\"].append(agent.pos)\n",
    "\n",
    "        # Append the traffic light states to the global_map\n",
    "        self.global_map[\"Traffic_Lights\"] = trafficLight\n",
    "        #Descomentar\n",
    "        \n",
    "        print(self.global_map)\n",
    "    \n",
    "        \n",
    "    # LAYER METHODS----------------------------------------------------------------------------------\n",
    "    # Set the value of cells to indicate buildings\n",
    "    def set_building_cells(self, buildings_coords, buildingLayer):\n",
    "        for coord in buildings_coords:\n",
    "            buildingLayer.set_cell(coord, 1)\n",
    "\n",
    "    # Set the value of cells to indicate parking spots\n",
    "    def set_parking_cells(self, parking_coords, parkingsLayer):\n",
    "\n",
    "        for coord in parking_coords:\n",
    "            parkingsLayer.set_cell(coord, 1)\n",
    "\n",
    "    def set_traffic_monitoring_cells(self, trafficMonitoringLayer):\n",
    "        \"\"\"Set the value of cells to indicate traffic monitoring spots.\"\"\"\n",
    "        all_monitored_coords = []\n",
    "        for traffic_light in self.traffic_light_coords:\n",
    "            # Access monitored coordinates assuming they are the last element in each list\n",
    "            monitored_coords = traffic_light[-1]\n",
    "            all_monitored_coords.extend(monitored_coords)\n",
    "\n",
    "        for coord in all_monitored_coords:\n",
    "            trafficMonitoringLayer.set_cell(coord, 1)\n",
    "\n",
    "\n",
    "    # STEP METHOD----------------------------------------------------------------------------------\n",
    "    # Execute one step of the model, shuffle agents, and collect data\n",
    "    def step(self):\n",
    "        # Shuffle and execute the step method for all agents\n",
    "        self.agents.shuffle_do(\"step\")\n",
    "        # Collect data for the current step\n",
    "        self.datacollector.collect(self)\n",
    "        # Create a global map of the current state\n",
    "        self.get_global_map()\n",
    "\n",
    "\n",
    "\n"
   ]
  },
  {
   "attachments": {},
   "cell_type": "markdown",
   "metadata": {
    "id": "A_3NEal1hla2"
   },
   "source": [
    "\n",
    "## Car Agent\n",
    "Main points of the agent's functionality:\n",
    "\n",
    "- Initialization:\n",
    "Each agent has a unique ID and is created with the model. \n",
    "It is randomly positioned on the model's grid.\n",
    "- Movement:\n",
    "The main movement method is `move()`.\n",
    "This method is called at each model step `step()`.\n",
    "- Directions:\n",
    "A dictionary of directions is used: \"up,\" \"down,\" \"left,\" \"right\".\n",
    "- Choosing a random direction:\n",
    "A random direction is selected from those allowed in the current cell.\n",
    "- Checking for an empty space:\n",
    "Before moving, it checks if the new space is empty."
   ]
  },
  {
   "attachments": {},
   "cell_type": "markdown",
   "metadata": {
    "id": "FqFZy3zzs5hv"
   },
   "source": [
    "**Basic Configuration:**\n",
    "- Defines the width and height of the grid (default is 24x24). \n",
    "Sets the number of agents (default is 10).\n",
    "- Path Customization:\n",
    "Allows defining custom paths using lists of coordinates (x, y) for each direction (up, down, left, right).\n",
    "- Model Initialization: \n",
    "Creates a two-dimensional grid (MultiGrid). \n",
    "Initializes the scheduler to manage model steps.\n",
    "- Agent Creation: \n",
    "Randomly places agents on the grid.\n",
    "- Direction Initialization: \n",
    "Uses the initialize_directions() method to set up allowed directions in each cell based on the provided lists.\n",
    "- Model Steps: The step() method is called at each step to update the state of all agents."
   ]
  },
  {
   "cell_type": "code",
<<<<<<< HEAD
   "execution_count": 24,
=======
   "execution_count": null,
>>>>>>> parent of bd4b7282 (UpdateETA)
   "metadata": {
    "id": "eEcDBzYRksJz"
   },
   "outputs": [],
   "source": [
    "class CarAgent(mesa.Agent):\n",
    "    def __init__(self, model, spawn_position, target_parking_spot):\n",
    "        super().__init__(model)\n",
    "        self.active = True\n",
    "        self.parking_spots = [coord for coord in model.parkings_coords if coord != spawn_position]\n",
    "        self.distance_travelled = 0\n",
    "        self.target_parking_spot = random.choice(list(model.ParkingSpots.values()))\n",
    "\n",
    "    def check_semaphore(self, current_position): #for future implementation, check if the agent is a car\n",
    "        agents_at_position = self.model.grid.get_cell_list_contents([current_position])\n",
    "        semaphore_agent = None\n",
    "        for agent in agents_at_position:\n",
    "            if agent.__class__ == TrafficLightAgent:\n",
    "                semaphore_agent = agent\n",
    "        if semaphore_agent is None:\n",
    "            return True\n",
    "        else:\n",
    "            if semaphore_agent.state == 1:\n",
    "                print(f\"Semaphore at {current_position} is red; agent cannot move.\")\n",
    "                return False\n",
    "            elif semaphore_agent.state == 2:\n",
    "                print(f\"Semaphore at {current_position} is green; agent can move.\")\n",
    "                return True\n",
    "            \n",
    "    def check_agent(self, new_position):\n",
    "        agents_at_position = self.model.grid.get_cell_list_contents([new_position])\n",
    "        car_agent = None\n",
    "        for agent in agents_at_position:\n",
    "            if agent.__class__ == CarAgent:\n",
    "                car_agent = agent\n",
    "        if car_agent is None: \n",
    "            return True\n",
    "        else:\n",
    "            return False\n",
    "\n",
<<<<<<< HEAD
    "    def send_eta(self, current_position):\n",
    "        for x in range(self.model.grid.width):\n",
    "            for y in range(self.model.grid.height):\n",
    "                cell_agents = self.model.grid.get_cell_list_contents([(x, y)])\n",
    "                for semaphore in cell_agents:\n",
    "                    if isinstance(semaphore, TrafficLightAgent) and current_position in semaphore.monitored_positions:\n",
    "                        eta = self.calculate_eta(current_position, semaphore.pos)\n",
    "                        #print(f\"Car at {current_position} sending ETA={eta} to semaphore {semaphore.unique_id} at {semaphore.pos}\")\n",
    "                        semaphore.receive_eta(eta, self.unique_id, current_position)\n",
    "                        return \n",
    "        #print(f\"Car at {current_position} is not in any monitored area.\")\n",
    "    \n",
    "    def calculate_eta(self, current_position, semaphore_position):\n",
    "        dx = abs(current_position[0] - semaphore_position[0])\n",
    "        dy = abs(current_position[1] - semaphore_position[1])\n",
    "        return dx + dy\n",
    "                \n",
=======
>>>>>>> parent of bd4b7282 (UpdateETA)
    "    def move(self):\n",
    "# Get current position and allowed directions\n",
    "        current_position = self.pos\n",
    "        possible_current_directions = self.model.get_cell_directions(current_position)\n",
    "        \n",
    "        # Check for any available directions in this cell\n",
    "        if not possible_current_directions:\n",
    "            print(f\"No directions available for agent at position {current_position}\")\n",
    "            return\n",
    "\n",
    "        # Filter allowed directions and select one randomly\n",
    "        possible_directions = [direction for direction, allowed in possible_current_directions.items() if allowed]\n",
    "        if not possible_directions:\n",
    "            print(f\"No movement options for agent at position {current_position}\")\n",
    "            return\n",
    "\n",
    "        # Checks if it can move acccording to the sempahore\n",
    "        if not self.check_semaphore(current_position):\n",
    "            return \n",
    "\n",
    "        direction = random.choice(possible_directions)\n",
    "\n",
    "        # Calculate the new position based on the chosen direction\n",
    "        dx, dy = {\n",
    "            \"up\": (0, 1),\n",
    "            \"down\": (0, -1),\n",
    "            \"left\": (-1, 0),\n",
    "            \"right\": (1, 0)\n",
    "        }[direction]\n",
    "\n",
    "        new_position = (self.pos[0] + dx, self.pos[1] + dy)\n",
    "        if not self.check_agent(new_position):\n",
    "            return \n",
    "        \n",
    "        self.model.grid.move_agent(self, new_position)\n",
    "        self.distance_travelled += 1  # Increment distance traveled\n",
    "        self.pos = new_position       # Update the position\n",
    "            \n",
    "    def move_to_target(self):\n",
    "        # Moverse hasta alcanzar el destino\n",
    "        while self.active:\n",
    "            if self.pos in self.parking_spots and self.distance_travelled > 0:\n",
    "                self.active = False\n",
    "                break\n",
    "            else:\n",
    "                moved = self.move()\n",
    "                if not moved:  # Si no puede moverse, detener el bucle\n",
    "                    break            \n",
    "            \n",
    "    def step(self):\n",
    "        self.move_to_target()"
   ]
  },
  {
   "attachments": {},
   "cell_type": "markdown",
   "metadata": {},
   "source": [
    "## Traffic Light Agent"
   ]
  },
  {
   "cell_type": "code",
<<<<<<< HEAD
   "execution_count": 25,
=======
   "execution_count": null,
>>>>>>> parent of bd4b7282 (UpdateETA)
   "metadata": {},
   "outputs": [],
   "source": [
    "class TrafficLightAgent(mesa.Agent):\n",
    "    def __init__(self, unique_id, state, model, monitored_positions):\n",
    "        super().__init__(model)\n",
    "        self.unique_id = unique_id\n",
    "        self.state = state  \n",
    "        self.time_counter = 0\n",
    "        self.monitored_positions = monitored_positions\n",
    "        self.neighbor_siblings = []  \n",
    "        self.neighbor_opposites = []  \n",
    "\n",
    "    def update_neighbors(self):\n",
    "        \"\"\"Actualiza las listas de semáforos hermanos y opuestos.\"\"\"\n",
    "        neighbors = self.model.grid.get_neighbors(self.pos, moore=True, include_center=False)\n",
    "\n",
    "        self.neighbor_siblings = [\n",
    "            agent for agent in neighbors if isinstance(agent, TrafficLightAgent) and agent.unique_id == self.unique_id\n",
    "        ]\n",
    "        self.neighbor_opposites = [\n",
    "            agent for agent in neighbors if isinstance(agent, TrafficLightAgent) and agent.unique_id != self.unique_id\n",
    "        ]\n",
    "\n",
    "    def change_state(self, state):\n",
    "        \"\"\"Cambia el estado del semáforo automáticamente.\"\"\"\n",
    "        self.state = state\n",
    "\n",
    "    def cars_in_monitored_area(self):\n",
    "        \"\"\"Revisa si hay autos en las posiciones monitoreadas.\"\"\"\n",
    "        in_area_cars = 0\n",
    "        for pos in self.monitored_positions:\n",
    "            agents = self.model.grid.get_cell_list_contents([pos])\n",
    "            for agent in agents:\n",
    "                if isinstance(agent, CarAgent):\n",
    "                    in_area_cars += 1\n",
    "        return in_area_cars\n",
    "\n",
    "\n",
    "\n",
    "\n",
    "    def compare_traffic_with_neighbors(self):\n",
    "        \"\"\"Compara el tráfico en su área monitoreada con los vecinos y ajusta estados.\"\"\"\n",
    "        current_traffic = self.cars_in_monitored_area()\n",
    "        \n",
    "        # Imprimir información del agente actual\n",
    "        print(f\"Traffic Light {self.unique_id} at {self.pos} with current state {self.state}\")\n",
    "\n",
    "        # Imprimir información de vecinos hermanos\n",
    "        print(f\"  Sibling neighbors of Traffic Light {self.unique_id}:\")\n",
    "        for sibling in self.neighbor_siblings:\n",
    "            sibling_traffic = sibling.cars_in_monitored_area()\n",
    "            print(f\"    Sibling {sibling.unique_id} at {sibling.pos} with state {sibling.state} and traffic {sibling_traffic}\")\n",
    "\n",
    "        # Imprimir información de vecinos opuestos\n",
    "        print(f\"  Opposite neighbors of Traffic Light {self.unique_id}:\")\n",
    "        for opposite in self.neighbor_opposites:\n",
    "            opposite_traffic = opposite.cars_in_monitored_area()\n",
    "            print(f\"    Opposite {opposite.unique_id} at {opposite.pos} with state {opposite.state} and traffic {opposite_traffic}\")\n",
    "\n",
    "        # Cambiar el estado basado en el tráfico\n",
    "        if current_traffic == 0:\n",
    "            self.change_state(3)\n",
    "            for sibling in self.neighbor_siblings:\n",
    "                sibling.change_state(3)\n",
    "            return\n",
    "\n",
    "        tempSelf = None  \n",
    "        for opposite in self.neighbor_opposites:\n",
    "            opposite_traffic = opposite.cars_in_monitored_area()\n",
    "            if current_traffic > opposite_traffic:\n",
    "                self.state = 2\n",
    "                if opposite_traffic == 0:\n",
    "                    opposite_traffic = 3\n",
    "                else :\n",
    "                    opposite.state = 1\n",
    "\n",
    "                tempSelf = opposite  \n",
    "                for sibling in self.neighbor_siblings:\n",
    "                    sibling.state = self.state\n",
    "\n",
    "\n",
    "        # Obtener vecinos de tempSelf\n",
    "        if tempSelf:\n",
    "            print(f\"TempSelf is set to Opposite Traffic Light {tempSelf.unique_id} at {tempSelf.pos} with state {tempSelf.state}\")\n",
    "            tempSelf_neighbors = self.model.grid.get_neighbors(tempSelf.pos, moore=True, include_center=False)\n",
    "            tempSelf_traffic_lights = [\n",
    "                agent for agent in tempSelf_neighbors if isinstance(agent, TrafficLightAgent)\n",
    "            ]\n",
    "\n",
    "            # Imprimir vecinos de tempSelf\n",
    "            print(f\"  Neighbors of TempSelf (Traffic Light {tempSelf.unique_id}):\")\n",
    "            for neighbor in tempSelf_traffic_lights:\n",
    "                neighbor_traffic = neighbor.cars_in_monitored_area()\n",
    "                print(f\"    Neighbor {neighbor.unique_id} at {neighbor.pos} with state {neighbor.state} and traffic {neighbor_traffic}\")\n",
    "                if tempSelf.unique_id == neighbor.unique_id:\n",
    "                    neighbor.state = tempSelf.state\n",
    "\n",
    "\n",
    "\n",
    "\n",
    "    def step(self):\n",
    "        \"\"\"Actualizar el estado en cada paso.\"\"\"\n",
    "        self.time_counter += 1\n",
    "        self.update_neighbors()  # Asegurarse de que las listas de vecinos estén actualizadas.\n",
    "        self.compare_traffic_with_neighbors()\n"
   ]
  },
  {
   "cell_type": "markdown",
   "metadata": {},
   "source": [
    "## Model Deployment "
   ]
  },
  {
   "cell_type": "code",
<<<<<<< HEAD
   "execution_count": 26,
   "metadata": {},
   "outputs": [
    {
     "name": "stdout",
     "output_type": "stream",
     "text": [
      "Spawn: ((20, 4)), Target: ((5, 17))\n",
      "Spawn: ((8, 15)), Target: ((2, 14))\n",
      "Spawn: ((17, 6)), Target: ((17, 4))\n",
      "Spawn: ((20, 15)), Target: ((3, 6))\n",
      "Spawn: ((17, 21)), Target: ((4, 12))\n",
      "Coordenadas de los agentes:\n",
      "Agente en posición: (20, 4)\n",
      "Agente en posición: (8, 15)\n",
      "Agente en posición: (17, 6)\n",
      "Agente en posición: (20, 15)\n",
      "Agente en posición: (17, 21)\n",
      "Agente en posición: (3, 23)\n",
      "Agente en posición: (14, 19)\n",
      "Agente en posición: (0, 20)\n",
      "Agente en posición: (16, 9)\n",
      "Agente en posición: (9, 23)\n",
      "Agente en posición: (5, 9)\n",
      "Agente en posición: (4, 8)\n",
      "Agente en posición: (6, 11)\n",
      "Agente en posición: (19, 23)\n",
      "Agente en posición: (13, 20)\n",
      "Agente en posición: (1, 20)\n",
      "Agente en posición: (13, 5)\n",
      "Agente en posición: (4, 23)\n",
      "Agente en posición: (5, 8)\n",
      "Agente en posición: (13, 15)\n",
      "Agente en posición: (0, 22)\n",
      "Agente en posición: (18, 8)\n",
      "Agente en posición: (8, 23)\n",
      "Agente en posición: (12, 17)\n",
      "Agente en posición: (6, 0)\n",
      "Agente en posición: (10, 5)\n",
      "Agente en posición: (5, 4)\n",
      "Agente en posición: (14, 0)\n",
      "Agente en posición: (14, 22)\n",
      "Agente en posición: (13, 19)\n",
      "Agente en posición: (12, 20)\n",
      "Agente en posición: (14, 13)\n",
      "Agente en posición: (7, 10)\n",
      "Agente en posición: (20, 17)\n",
      "Agente en posición: (7, 4)\n",
      "Agente en posición: (3, 11)\n",
      "Agente en posición: (7, 1)\n",
      "Agente en posición: (1, 11)\n",
      "Agente en posición: (12, 23)\n",
      "Agente en posición: (6, 23)\n",
      "Agente en posición: (14, 14)\n",
      "Agente en posición: (4, 9)\n",
      "Agente en posición: (13, 0)\n",
      "Agente en posición: (23, 19)\n",
      "Agente en posición: (13, 23)\n",
      "Agente en posición: (0, 12)\n",
      "Agente en posición: (18, 10)\n",
      "Agente en posición: (23, 17)\n",
      "Agente en posición: (11, 10)\n",
      "Agente en posición: (6, 7)\n",
      "Agente en posición: (0, 2)\n",
      "Agente en posición: (3, 9)\n",
      "Agente en posición: (23, 14)\n",
      "Agente en posición: (21, 17)\n",
      "Agente en posición: (18, 23)\n"
     ]
    }
   ],
=======
   "execution_count": null,
   "metadata": {},
   "outputs": [],
>>>>>>> parent of bd4b7282 (UpdateETA)
   "source": [
    "# Crear una instancia de TrafficModel\n",
    "model = TrafficModel(24, 24, 5, left_coords, right_coords, up_coords, down_coords, buildings_coords, parking_spots, traffic_light_coords)\n",
    "\n",
    "# Crear una matriz para contar los agentes de tipo CarAgent\n",
    "agent_counts = np.zeros((model.grid.width, model.grid.height))\n",
    "\n",
    "# Imprimir las coordenadas de los agentes\n",
    "print(\"Coordenadas de los agentes:\")\n",
    "for agent in model.agents:  # Itera sobre todos los agentes en el modelo\n",
    "    if isinstance(agent, CarAgent):  # Verifica si es un CarAgent\n",
    "        print(f\"Agente en posición: {agent.pos}\")\n",
    "\n"
   ]
  },
  {
   "cell_type": "code",
<<<<<<< HEAD
   "execution_count": 27,
   "metadata": {
    "id": "Xm2MILQRY0Y_"
   },
   "outputs": [
    {
     "name": "stdout",
     "output_type": "stream",
     "text": [
      "Semaphore 1 received ETA = 1 from car 23 at (8, 23).\n",
      "Semaphore 7 received ETA = 3 from car 35 at (7, 4).\n",
      "Semaphore 8 received ETA = 2 from car 9 at (16, 9).\n",
      "Semaphore 5 received ETA = 3 from car 27 at (5, 4).\n",
      "Semaphore 1 received ETA = 2 from car 10 at (9, 23).\n",
      "Semaphore 7: Countdown for car 35 at (7, 4) - ETA: 2\n",
      "Semaphore 5: Countdown for car 27 at (5, 4) - ETA: 2\n",
      "{'Cars': [(19, 4), (7, 15), (18, 6), (20, 16), (17, 22), (2, 23), (14, 20), (0, 19), (17, 9), (8, 23), (6, 9), (5, 8), (5, 11), (18, 23), (13, 19), (1, 19), (13, 4), (4, 23), (6, 8), (13, 14), (0, 21), (19, 8), (7, 23), (12, 16), (7, 0), (11, 5), (4, 4), (15, 0), (13, 22), (13, 18), (12, 19), (14, 13), (6, 10), (20, 18), (7, 3), (2, 11), (8, 1), (0, 11), (11, 23), (5, 23), (14, 15), (5, 9), (13, 0), (23, 20), (13, 23), (0, 12), (17, 10), (23, 18), (10, 10), (6, 6), (0, 1), (3, 9), (23, 15), (21, 17), (17, 23)], 'Traffic_Lights': {4: False, 5: True, 6: False, 7: True, 2: True, 0: False, 3: False, 1: True, 8: True, 9: False}}\n",
      "Semaphore 1: Countdown for car 23 at (8, 23) - ETA: 0\n",
      "Semaphore 1: Car 23 has arrived at position (8, 23)\n",
      "Semaphore 1: Countdown for car 10 at (9, 23) - ETA: 1\n",
      "Semaphore 7: Countdown for car 35 at (7, 4) - ETA: 1\n",
      "Semaphore 2 received ETA = 2 from car 2 at (7, 15).\n",
      "Semaphore 1 received ETA = 4 from car 39 at (11, 23).\n",
      "Semaphore 9 received ETA = 1 from car 3 at (18, 6).\n",
      "Semaphore 8: Countdown for car 9 at (16, 9) - ETA: 1\n",
      "Semaphore 9: Countdown for car 3 at (18, 6) - ETA: 0\n",
      "Semaphore 9: Car 3 has arrived at position (18, 6)\n",
      "Semaphore 2: Countdown for car 2 at (7, 15) - ETA: 1\n",
      "Semaphore 9 received ETA = 4 from car 1 at (19, 4).\n",
      "Semaphore 5: Countdown for car 27 at (5, 4) - ETA: 1\n",
      "{'Cars': [(19, 5), (8, 15), (18, 7), (19, 16), (17, 21), (1, 23), (14, 21), (0, 18), (18, 9), (8, 23), (7, 9), (5, 8), (4, 11), (18, 23), (13, 18), (1, 18), (13, 3), (3, 23), (7, 8), (13, 13), (0, 20), (20, 8), (6, 23), (12, 15), (8, 0), (12, 5), (4, 3), (16, 0), (13, 21), (13, 17), (12, 18), (14, 14), (5, 10), (20, 18), (7, 2), (1, 11), (9, 1), (0, 10), (10, 23), (4, 23), (14, 16), (5, 9), (14, 0), (23, 21), (12, 23), (0, 12), (16, 10), (23, 19), (9, 10), (6, 5), (0, 0), (4, 9), (23, 16), (20, 17), (16, 23)], 'Traffic_Lights': {4: False, 5: False, 6: False, 7: True, 2: False, 0: False, 3: False, 1: True, 8: False, 9: True}}\n",
      "Semaphore 9 received ETA = 0 from car 3 at (18, 7).\n",
      "Semaphore 9: Countdown for car 1 at (19, 4) - ETA: 3\n",
      "Semaphore 9: Countdown for car 3 at (18, 7) - ETA: -1\n",
      "Semaphore 9: Car 3 has arrived at position (18, 7)\n",
      "Semaphore 1: Countdown for car 10 at (9, 23) - ETA: 0\n",
      "Semaphore 1: Car 10 has arrived at position (9, 23)\n",
      "Semaphore 1: Countdown for car 39 at (11, 23) - ETA: 3\n",
      "Semaphore 1 received ETA = 1 from car 10 at (8, 23).\n",
      "Semaphore 7: Countdown for car 35 at (7, 4) - ETA: 0\n",
      "Semaphore 7: Car 35 has arrived at position (7, 4)\n",
      "Semaphore 2: Countdown for car 2 at (7, 15) - ETA: 0\n",
      "Semaphore 2: Car 2 has arrived at position (7, 15)\n",
      "Semaphore 5: Countdown for car 27 at (5, 4) - ETA: 0\n",
      "Semaphore 5: Car 27 has arrived at position (5, 4)\n",
      "Semaphore 7 received ETA = 3 from car 50 at (6, 5).\n",
      "Semaphore 8: Countdown for car 9 at (16, 9) - ETA: 0\n",
      "Semaphore 8: Car 9 has arrived at position (16, 9)\n",
      "{'Cars': [(19, 6), (7, 15), (18, 8), (18, 16), (17, 22), (1, 22), (14, 22), (0, 17), (19, 9), (7, 23), (8, 9), (6, 8), (3, 11), (17, 23), (13, 18), (1, 17), (13, 2), (2, 23), (8, 8), (13, 12), (0, 19), (21, 8), (5, 23), (12, 14), (9, 0), (12, 4), (4, 3), (17, 0), (13, 20), (13, 16), (11, 18), (14, 15), (4, 10), (20, 18), (7, 1), (0, 11), (9, 2), (0, 9), (9, 23), (4, 23), (14, 17), (6, 9), (15, 0), (23, 22), (11, 23), (0, 12), (15, 10), (23, 20), (8, 10), (5, 5), (1, 0), (5, 9), (23, 17), (20, 17), (15, 23)], 'Traffic_Lights': {4: False, 5: False, 6: False, 7: True, 2: True, 0: False, 3: False, 1: True, 8: False, 9: True}}\n",
      "Semaphore 1 received ETA = 4 from car 45 at (11, 23).\n",
      "Semaphore 3 received ETA = 4 from car 31 at (11, 18).\n",
      "Semaphore 4 received ETA = 3 from car 38 at (0, 9).\n",
      "Semaphore 9: Countdown for car 1 at (19, 4) - ETA: 2\n",
      "Semaphore 1: Countdown for car 39 at (11, 23) - ETA: 2\n",
      "Semaphore 1: Countdown for car 10 at (8, 23) - ETA: 0\n",
      "Semaphore 1: Car 10 has arrived at position (8, 23)\n",
      "Semaphore 1: Countdown for car 45 at (11, 23) - ETA: 3\n",
      "Semaphore 4: Countdown for car 38 at (0, 9) - ETA: 2\n",
      "Semaphore 3: Countdown for car 31 at (11, 18) - ETA: 3\n",
      "Semaphore 5 received ETA = 4 from car 50 at (5, 5).\n",
      "Semaphore 7: Countdown for car 50 at (6, 5) - ETA: 2\n",
      "Semaphore 2 received ETA = 2 from car 2 at (7, 15).\n",
      "{'Cars': [(19, 7), (7, 16), (19, 8), (17, 16), (17, 21), (1, 21), (13, 22), (0, 16), (20, 9), (6, 23), (9, 9), (7, 8), (2, 11), (16, 23), (13, 17), (1, 16), (13, 1), (1, 23), (9, 8), (13, 11), (0, 18), (22, 8), (4, 23), (12, 13), (10, 0), (12, 3), (4, 3), (18, 0), (13, 19), (13, 15), (10, 18), (14, 16), (3, 10), (20, 18), (8, 1), (0, 10), (9, 2), (0, 8), (8, 23), (3, 23), (14, 18), (7, 9), (16, 0), (23, 23), (10, 23), (0, 12), (15, 11), (23, 21), (7, 10), (4, 5), (2, 0), (6, 9), (23, 18), (20, 17), (14, 23)], 'Traffic_Lights': {4: False, 5: False, 6: False, 7: False, 2: True, 0: False, 3: False, 1: True, 8: False, 9: True}}\n",
      "Semaphore 2: Countdown for car 2 at (7, 15) - ETA: 1\n",
      "Semaphore 3: Countdown for car 31 at (11, 18) - ETA: 2\n",
      "Semaphore 5: Countdown for car 50 at (5, 5) - ETA: 3\n",
      "Semaphore 9: Countdown for car 1 at (19, 4) - ETA: 1\n",
      "Semaphore 7: Countdown for car 50 at (6, 5) - ETA: 1\n",
      "Semaphore 1: Countdown for car 39 at (11, 23) - ETA: 1\n",
      "Semaphore 1: Countdown for car 45 at (11, 23) - ETA: 2\n",
      "Semaphore 4: Countdown for car 38 at (0, 9) - ETA: 1\n",
      "Semaphore 6 received ETA = 3 from car 51 at (2, 0).\n",
      "{'Cars': [(19, 8), (7, 17), (20, 8), (16, 16), (17, 22), (1, 20), (13, 21), (0, 15), (21, 9), (5, 23), (10, 9), (8, 8), (1, 11), (15, 23), (13, 16), (1, 15), (14, 1), (0, 23), (10, 8), (12, 11), (0, 17), (22, 9), (3, 23), (12, 12), (11, 0), (12, 2), (4, 3), (19, 0), (13, 18), (13, 14), (9, 18), (14, 17), (2, 10), (20, 18), (9, 1), (0, 9), (9, 2), (0, 7), (7, 23), (2, 23), (14, 19), (8, 9), (17, 0), (22, 23), (9, 23), (0, 11), (15, 12), (23, 22), (6, 10), (3, 5), (3, 0), (6, 9), (23, 19), (20, 17), (13, 23)], 'Traffic_Lights': {4: True, 5: False, 6: True, 7: False, 2: False, 0: False, 3: True, 1: True, 8: False, 9: False}}\n",
      "Semaphore 9: Countdown for car 1 at (19, 4) - ETA: 0\n",
      "Semaphore 9: Car 1 has arrived at position (19, 4)\n",
      "Semaphore 6: Countdown for car 51 at (2, 0) - ETA: 2\n",
      "Semaphore 3: Countdown for car 31 at (11, 18) - ETA: 1\n",
      "Semaphore 7: Countdown for car 50 at (6, 5) - ETA: 0\n",
      "Semaphore 7: Car 50 has arrived at position (6, 5)\n",
      "Semaphore 2: Countdown for car 2 at (7, 15) - ETA: 0\n",
      "Semaphore 2: Car 2 has arrived at position (7, 15)\n",
      "Semaphore 5: Countdown for car 50 at (5, 5) - ETA: 2\n",
      "Semaphore 4 received ETA = 3 from car 36 at (0, 9).\n",
      "Semaphore 1: Countdown for car 39 at (11, 23) - ETA: 0\n",
      "Semaphore 1: Car 39 has arrived at position (11, 23)\n",
      "Semaphore 1: Countdown for car 45 at (11, 23) - ETA: 1\n",
      "Semaphore 4: Countdown for car 38 at (0, 9) - ETA: 0\n",
      "Semaphore 4: Car 38 has arrived at position (0, 9)\n",
      "Semaphore 4: Countdown for car 36 at (0, 9) - ETA: 2\n",
      "{'Cars': [(20, 8), (7, 18), (21, 8), (15, 16), (17, 21), (1, 19), (13, 20), (0, 14), (21, 9), (4, 23), (11, 9), (9, 8), (1, 11), (14, 23), (13, 15), (1, 14), (14, 2), (0, 22), (10, 7), (12, 10), (0, 16), (22, 10), (2, 23), (12, 11), (12, 0), (12, 1), (4, 3), (20, 0), (13, 17), (13, 13), (8, 18), (14, 18), (1, 10), (20, 18), (10, 1), (0, 8), (9, 2), (0, 6), (6, 23), (1, 23), (14, 20), (9, 9), (18, 0), (21, 23), (8, 23), (0, 10), (15, 13), (23, 23), (5, 10), (2, 5), (4, 0), (7, 9), (23, 20), (19, 17), (12, 23)], 'Traffic_Lights': {4: True, 5: False, 6: True, 7: False, 2: False, 0: False, 3: True, 1: True, 8: False, 9: False}}\n",
      "Semaphore 1: Countdown for car 45 at (11, 23) - ETA: 0\n",
      "Semaphore 1: Car 45 has arrived at position (11, 23)\n",
      "Semaphore 0 received ETA = 4 from car 2 at (7, 18).\n",
      "Semaphore 4: Countdown for car 36 at (0, 9) - ETA: 1\n",
      "Semaphore 5: Countdown for car 50 at (5, 5) - ETA: 1\n",
      "Semaphore 4 received ETA = 0 from car 38 at (0, 6).\n",
      "Semaphore 3: Countdown for car 31 at (11, 18) - ETA: 0\n",
      "Semaphore 3: Car 31 has arrived at position (11, 18)\n",
      "Semaphore 1 received ETA = 1 from car 45 at (8, 23).\n",
      "Semaphore 6: Countdown for car 51 at (2, 0) - ETA: 1\n",
      "Semaphore 3 received ETA = 1 from car 31 at (8, 18).\n",
      "{'Cars': [(21, 8), (7, 19), (22, 8), (15, 17), (17, 22), (1, 18), (13, 19), (0, 13), (22, 9), (3, 23), (12, 9), (10, 8), (0, 11), (13, 23), (13, 14), (1, 13), (14, 3), (0, 21), (10, 7), (11, 10), (0, 15), (22, 11), (2, 23), (12, 10), (13, 0), (13, 1), (4, 3), (21, 0), (13, 16), (13, 12), (7, 18), (14, 19), (1, 9), (20, 18), (11, 1), (0, 7), (9, 2), (0, 5), (5, 23), (0, 23), (14, 21), (10, 9), (19, 0), (20, 23), (7, 23), (0, 9), (15, 14), (22, 23), (4, 10), (2, 5), (5, 0), (8, 9), (23, 21), (18, 17), (11, 23)], 'Traffic_Lights': {4: True, 5: False, 6: True, 7: False, 2: False, 0: False, 3: True, 1: True, 8: False, 9: False}}\n",
      "Semaphore 1: Countdown for car 45 at (8, 23) - ETA: 0\n",
      "Semaphore 1: Car 45 has arrived at position (8, 23)\n",
      "Semaphore 4: Countdown for car 36 at (0, 9) - ETA: 0\n",
      "Semaphore 4: Car 36 has arrived at position (0, 9)\n",
      "Semaphore 4: Countdown for car 38 at (0, 6) - ETA: -1\n",
      "Semaphore 4: Car 38 has arrived at position (0, 6)\n",
      "Semaphore 0: Countdown for car 2 at (7, 18) - ETA: 3\n",
      "Semaphore 5: Countdown for car 50 at (5, 5) - ETA: 0\n",
      "Semaphore 5: Car 50 has arrived at position (5, 5)\n",
      "Semaphore 1 received ETA = 4 from car 55 at (11, 23).\n",
      "Semaphore 6: Countdown for car 51 at (2, 0) - ETA: 0\n",
      "Semaphore 6: Car 51 has arrived at position (2, 0)\n",
      "Semaphore 4 received ETA = 3 from car 46 at (0, 9).\n",
      "Semaphore 4 received ETA = 1 from car 36 at (0, 7).\n",
      "Semaphore 3: Countdown for car 31 at (8, 18) - ETA: 0\n",
      "Semaphore 3: Car 31 has arrived at position (8, 18)\n",
      "Semaphore 4 received ETA = 4 from car 33 at (1, 9).\n",
      "Semaphore 0 received ETA = 4 from car 31 at (7, 18).\n",
      "{'Cars': [(21, 8), (7, 20), (22, 8), (15, 18), (17, 21), (1, 17), (13, 18), (0, 12), (22, 10), (2, 23), (12, 8), (10, 8), (0, 10), (12, 23), (13, 13), (1, 12), (14, 4), (0, 20), (10, 7), (10, 10), (0, 14), (21, 11), (1, 23), (11, 10), (14, 0), (14, 1), (4, 3), (22, 0), (13, 15), (13, 11), (7, 19), (14, 20), (2, 9), (20, 18), (12, 1), (0, 6), (9, 2), (0, 4), (4, 23), (0, 22), (14, 22), (11, 9), (20, 0), (19, 23), (6, 23), (0, 8), (15, 15), (21, 23), (3, 10), (2, 5), (6, 0), (9, 9), (23, 22), (17, 17), (10, 23)], 'Traffic_Lights': {4: True, 5: False, 6: False, 7: False, 2: False, 0: True, 3: False, 1: False, 8: False, 9: False}}\n",
      "Semaphore 4: Countdown for car 46 at (0, 9) - ETA: 2\n",
      "Semaphore 4: Countdown for car 36 at (0, 7) - ETA: 0\n",
      "Semaphore 4: Car 36 has arrived at position (0, 7)\n",
      "Semaphore 4: Countdown for car 33 at (1, 9) - ETA: 3\n",
      "Semaphore 0: Countdown for car 2 at (7, 18) - ETA: 2\n",
      "Semaphore 0: Countdown for car 31 at (7, 18) - ETA: 3\n",
      "Semaphore 4 received ETA = 0 from car 36 at (0, 6).\n",
      "Semaphore 1: Countdown for car 55 at (11, 23) - ETA: 3\n",
      "{'Cars': [(21, 8), (7, 21), (22, 9), (15, 19), (17, 22), (1, 16), (13, 17), (0, 11), (22, 11), (2, 23), (13, 8), (10, 8), (0, 9), (11, 23), (13, 12), (1, 11), (14, 5), (0, 19), (10, 7), (9, 10), (0, 13), (20, 11), (1, 22), (11, 10), (15, 0), (14, 2), (4, 3), (23, 0), (13, 14), (12, 11), (7, 20), (14, 21), (3, 9), (20, 18), (13, 1), (0, 5), (9, 2), (0, 3), (3, 23), (0, 21), (13, 22), (12, 9), (21, 0), (18, 23), (5, 23), (0, 7), (15, 16), (20, 23), (2, 10), (2, 5), (7, 0), (10, 9), (23, 23), (16, 17), (9, 23)], 'Traffic_Lights': {4: True, 5: False, 6: False, 7: False, 2: False, 0: True, 3: False, 1: False, 8: False, 9: False}}\n",
      "Semaphore 1: Countdown for car 55 at (11, 23) - ETA: 2\n",
      "Semaphore 1 received ETA = 4 from car 14 at (11, 23).\n",
      "Semaphore 4: Countdown for car 46 at (0, 9) - ETA: 1\n",
      "Semaphore 4: Countdown for car 33 at (1, 9) - ETA: 2\n",
      "Semaphore 4: Countdown for car 36 at (0, 6) - ETA: -1\n",
      "Semaphore 4: Car 36 has arrived at position (0, 6)\n",
      "Semaphore 0: Countdown for car 2 at (7, 18) - ETA: 1\n",
      "Semaphore 0: Countdown for car 31 at (7, 18) - ETA: 2\n",
      "Semaphore 4 received ETA = 3 from car 13 at (0, 9).\n",
      "{'Cars': [(22, 8), (7, 22), (22, 10), (15, 20), (17, 21), (1, 15), (13, 16), (0, 10), (21, 11), (1, 23), (13, 7), (10, 8), (0, 8), (10, 23), (13, 11), (1, 11), (14, 6), (0, 18), (10, 7), (8, 10), (0, 12), (19, 11), (0, 22), (10, 10), (16, 0), (14, 3), (4, 3), (23, 1), (13, 13), (11, 11), (7, 21), (14, 22), (4, 9), (20, 18), (14, 1), (0, 4), (9, 2), (0, 2), (2, 23), (0, 20), (12, 22), (12, 8), (22, 0), (17, 23), (4, 23), (0, 6), (15, 16), (19, 23), (1, 10), (2, 5), (8, 0), (11, 9), (22, 23), (15, 17), (8, 23)], 'Traffic_Lights': {4: True, 5: False, 6: False, 7: False, 2: False, 0: False, 3: False, 1: True, 8: False, 9: False}}\n"
     ]
    }
   ],
=======
   "execution_count": null,
   "metadata": {
    "id": "Xm2MILQRY0Y_"
   },
   "outputs": [],
>>>>>>> parent of bd4b7282 (UpdateETA)
   "source": [
    "for i in range(1):  # Eje    cutar el modelo por 10 pasos\n",
    "  model.step()"
   ]
  },
  {
   "cell_type": "markdown",
   "metadata": {},
   "source": [
    "# Visualization 1"
   ]
  },
  {
   "cell_type": "code",
<<<<<<< HEAD
   "execution_count": 28,
=======
   "execution_count": null,
>>>>>>> parent of bd4b7282 (UpdateETA)
   "metadata": {},
   "outputs": [],
   "source": [
    "#%pip install solara"
   ]
  },
  {
   "cell_type": "code",
<<<<<<< HEAD
   "execution_count": 29,
=======
   "execution_count": null,
>>>>>>> parent of bd4b7282 (UpdateETA)
   "metadata": {},
   "outputs": [],
   "source": [
    "import solara\n"
   ]
  },
  {
   "cell_type": "markdown",
   "metadata": {},
   "source": []
  },
  {
   "cell_type": "markdown",
   "metadata": {},
   "source": [
    "Define the agent portrayal function"
   ]
  },
  {
   "cell_type": "code",
<<<<<<< HEAD
   "execution_count": 30,
=======
   "execution_count": null,
>>>>>>> parent of bd4b7282 (UpdateETA)
   "metadata": {
    "id": "jcwflT4ueEFN"
   },
   "outputs": [],
   "source": [
    "def agent_portrayal(agent):\n",
    "    size = 20\n",
    "    color = \"tab:red\"\n",
    "    shape = \"circle\"\n",
    "    \n",
    "    # Verificar el tipo de agente\n",
    "    if isinstance(agent, CarAgent):\n",
    "        size = 50\n",
    "        color = \"tab:blue\"\n",
    "        shape = \"circle\"\n",
    "    elif isinstance(agent, TrafficLightAgent):\n",
    "        size = 20\n",
    "        shape = \"circle\"\n",
    "        if agent.state == 1:\n",
    "            color = \"tab:red\"\n",
    "        elif agent.state == 2:\n",
    "            color = \"tab:green\"\n",
    "        elif agent.state == 3:  \n",
    "            color = \"yellow\"  \n",
    "    return {\"size\": size, \"color\": color, \"shape\": shape}\n",
    "\n",
    "\n"
   ]
  },
  {
   "cell_type": "markdown",
   "metadata": {},
   "source": [
    " Define the model parameters"
   ]
  },
  {
   "cell_type": "code",
<<<<<<< HEAD
   "execution_count": 31,
=======
   "execution_count": null,
>>>>>>> parent of bd4b7282 (UpdateETA)
   "metadata": {},
   "outputs": [],
   "source": [
    "model_params = {\n",
    "    \"num_agents\": {\n",
    "        \"type\": \"SliderInt\",\n",
    "        \"value\": 10,\n",
    "        \"label\": \"Number of agents:\",\n",
    "    },\n",
    "    \"width\": 24,\n",
    "    \"height\": 24,\n",
    "}"
   ]
  },
  {
   "cell_type": "markdown",
   "metadata": {},
   "source": [
    "Create the initial model instance"
   ]
  },
  {
   "cell_type": "code",
<<<<<<< HEAD
   "execution_count": 32,
   "metadata": {
    "id": "ExgYCvb9e8uK"
   },
   "outputs": [
    {
     "name": "stdout",
     "output_type": "stream",
     "text": [
      "Spawn: ((17, 4)), Target: ((20, 18))\n",
      "Spawn: ((5, 17)), Target: ((4, 12))\n",
      "Spawn: ((20, 15)), Target: ((2, 14))\n",
      "Spawn: ((4, 3)), Target: ((3, 6))\n",
      "Spawn: ((10, 7)), Target: ((8, 15))\n",
      "Spawn: ((17, 6)), Target: ((20, 4))\n",
      "Spawn: ((3, 21)), Target: ((17, 21))\n",
      "Spawn: ((10, 12)), Target: ((9, 2))\n",
      "No available spots for target parking\n"
     ]
    }
   ],
=======
   "execution_count": null,
   "metadata": {
    "id": "ExgYCvb9e8uK"
   },
   "outputs": [],
>>>>>>> parent of bd4b7282 (UpdateETA)
   "source": [
    "initial_model = TrafficModel(\n",
    "    num_agents=10,\n",
    "    width=24,\n",
    "    height=24,\n",
    "    left_coords= left_coords,\n",
    "    right_coords=right_coords,\n",
    "    up_coords=up_coords,\n",
    "    down_coords=down_coords,\n",
    "    buildings_coords=buildings_coords,\n",
    "    parking_coords=parking_spots,\n",
    "    traffic_light_coords=traffic_light_coords\n",
    ")\n",
    "\n"
   ]
  },
  {
   "cell_type": "markdown",
   "metadata": {},
   "source": [
    "Create the visualization components"
   ]
  },
  {
   "cell_type": "code",
<<<<<<< HEAD
   "execution_count": 33,
=======
   "execution_count": null,
>>>>>>> parent of bd4b7282 (UpdateETA)
   "metadata": {
    "id": "T9YbB08oeyZv"
   },
   "outputs": [],
   "source": [
    "propertylayer_portrayal={\"building\": {\"color\":\"blue\",\"colorbar\":False}, \"parking\":{\"color\":\"yellow\",\"colorbar\":False}, \"traffic_monitoring\":{\"color\":\"gray\",\"colorbar\":False}}\n",
    "SpaceGraph = make_space_component(agent_portrayal, propertylayer_portrayal=propertylayer_portrayal)"
   ]
  },
  {
   "cell_type": "markdown",
   "metadata": {},
   "source": [
    "Create the SolaraViz page"
   ]
  },
  {
   "cell_type": "code",
<<<<<<< HEAD
   "execution_count": 34,
=======
   "execution_count": null,
>>>>>>> parent of bd4b7282 (UpdateETA)
   "metadata": {
    "colab": {
     "base_uri": "https://localhost:8080/",
     "height": 971,
     "referenced_widgets": [
      "abe9fa35972f4fd8a1a08a862ad74cea",
      "d51e77ec1fde49cda87aa46e18fc8285",
      "0e7389f9d7544edf92b0bab60b23bb6c",
      "9e1b7a3518234982b6440f2df584c70b",
      "7d34024b584a43719802e87884d5f270",
      "c158d9351e1f49199adbbf0ceb66d9e5"
     ]
    },
    "id": "c9UCVl8Me06j",
    "outputId": "e457b245-a22e-4d2b-a601-4ab199273924"
   },
<<<<<<< HEAD
   "outputs": [
    {
     "data": {
      "application/vnd.jupyter.widget-view+json": {
       "model_id": "74d3abf8938a4e6bb8cab0e3b3ad2d7d",
       "version_major": 2,
       "version_minor": 0
      },
      "text/html": [
       "Cannot show widget. You probably want to rerun the code cell above (<i>Click in the code cell, and press Shift+Enter <kbd>⇧</kbd>+<kbd>↩</kbd></i>)."
      ],
      "text/plain": [
       "Cannot show ipywidgets in text"
      ]
     },
     "metadata": {},
     "output_type": "display_data"
    }
   ],
=======
   "outputs": [],
>>>>>>> parent of bd4b7282 (UpdateETA)
   "source": [
    "page = SolaraViz(\n",
    "    initial_model,\n",
    "    components=[SpaceGraph],\n",
    "    model_params=model_params,\n",
    "    name=\"Traffic Simulation\",\n",
    ")\n",
    "page"
   ]
  }
 ],
 "metadata": {
  "colab": {
   "provenance": []
  },
  "kernelspec": {
   "display_name": ".venv",
   "language": "python",
   "name": "python3"
  },
  "language_info": {
   "codemirror_mode": {
    "name": "ipython",
    "version": 3
   },
   "file_extension": ".py",
   "mimetype": "text/x-python",
   "name": "python",
   "nbconvert_exporter": "python",
   "pygments_lexer": "ipython3",
   "version": "3.12.7"
  },
  "widgets": {
   "application/vnd.jupyter.widget-state+json": {
    "0e7389f9d7544edf92b0bab60b23bb6c": {
     "model_module": "@jupyter-widgets/controls",
     "model_module_version": "1.5.0",
     "model_name": "HTMLModel",
     "state": {
      "_dom_classes": [],
      "_model_module": "@jupyter-widgets/controls",
      "_model_module_version": "1.5.0",
      "_model_name": "HTMLModel",
      "_view_count": null,
      "_view_module": "@jupyter-widgets/controls",
      "_view_module_version": "1.5.0",
      "_view_name": "HTMLView",
      "description": "",
      "description_tooltip": null,
      "layout": "IPY_MODEL_7d34024b584a43719802e87884d5f270",
      "placeholder": "​",
      "style": "IPY_MODEL_c158d9351e1f49199adbbf0ceb66d9e5",
      "value": "<pre>Traceback (most recent call last):\n  File &quot;/usr/local/lib/python3.10/dist-packages/reacton/core.py&quot;, line 1707, in _render\n    root_element = el.component.f(*el.args, **el.kwargs)\n  File &quot;/usr/local/lib/python3.10/dist-packages/mesa/visualization/components/matplotlib_components.py&quot;, line 82, in SpaceMatplotlib\n    draw_space(\n  File &quot;/usr/local/lib/python3.10/dist-packages/mesa/visualization/mpl_space_drawing.py&quot;, line 144, in draw_space\n    draw_orthogonal_grid(space, agent_portrayal, ax=ax, **space_drawing_kwargs)\n  File &quot;/usr/local/lib/python3.10/dist-packages/mesa/visualization/mpl_space_drawing.py&quot;, line 272, in draw_orthogonal_grid\n    arguments = collect_agent_data(space, agent_portrayal, size=s_default)\n  File &quot;/usr/local/lib/python3.10/dist-packages/mesa/visualization/mpl_space_drawing.py&quot;, line 79, in collect_agent_data\n    for agent in space.agents:\n  File &quot;/usr/local/lib/python3.10/dist-packages/mesa/space.py&quot;, line 181, in agents\n    rng = agents[0].random\nAttributeError: &#x27;dict&#x27; object has no attribute &#x27;random&#x27;\n</pre>"
     }
    },
    "7d34024b584a43719802e87884d5f270": {
     "model_module": "@jupyter-widgets/base",
     "model_module_version": "1.2.0",
     "model_name": "LayoutModel",
     "state": {
      "_model_module": "@jupyter-widgets/base",
      "_model_module_version": "1.2.0",
      "_model_name": "LayoutModel",
      "_view_count": null,
      "_view_module": "@jupyter-widgets/base",
      "_view_module_version": "1.2.0",
      "_view_name": "LayoutView",
      "align_content": null,
      "align_items": null,
      "align_self": null,
      "border": null,
      "bottom": null,
      "display": null,
      "flex": null,
      "flex_flow": null,
      "grid_area": null,
      "grid_auto_columns": null,
      "grid_auto_flow": null,
      "grid_auto_rows": null,
      "grid_column": null,
      "grid_gap": null,
      "grid_row": null,
      "grid_template_areas": null,
      "grid_template_columns": null,
      "grid_template_rows": null,
      "height": null,
      "justify_content": null,
      "justify_items": null,
      "left": null,
      "margin": null,
      "max_height": null,
      "max_width": null,
      "min_height": null,
      "min_width": null,
      "object_fit": null,
      "object_position": null,
      "order": null,
      "overflow": "auto",
      "overflow_x": null,
      "overflow_y": null,
      "padding": null,
      "right": null,
      "top": null,
      "visibility": null,
      "width": null
     }
    },
    "9e1b7a3518234982b6440f2df584c70b": {
     "model_module": "@jupyter-widgets/base",
     "model_module_version": "1.2.0",
     "model_name": "LayoutModel",
     "state": {
      "_model_module": "@jupyter-widgets/base",
      "_model_module_version": "1.2.0",
      "_model_name": "LayoutModel",
      "_view_count": null,
      "_view_module": "@jupyter-widgets/base",
      "_view_module_version": "1.2.0",
      "_view_name": "LayoutView",
      "align_content": null,
      "align_items": null,
      "align_self": null,
      "border": null,
      "bottom": null,
      "display": null,
      "flex": null,
      "flex_flow": null,
      "grid_area": null,
      "grid_auto_columns": null,
      "grid_auto_flow": null,
      "grid_auto_rows": null,
      "grid_column": null,
      "grid_gap": null,
      "grid_row": null,
      "grid_template_areas": null,
      "grid_template_columns": null,
      "grid_template_rows": null,
      "height": null,
      "justify_content": null,
      "justify_items": null,
      "left": null,
      "margin": null,
      "max_height": null,
      "max_width": null,
      "min_height": null,
      "min_width": null,
      "object_fit": null,
      "object_position": null,
      "order": null,
      "overflow": null,
      "overflow_x": null,
      "overflow_y": null,
      "padding": null,
      "right": null,
      "top": null,
      "visibility": null,
      "width": null
     }
    },
    "abe9fa35972f4fd8a1a08a862ad74cea": {
     "model_module": "jupyter-vue",
     "model_module_version": "3.0.0-alpha.4",
     "model_name": "HtmlModel",
     "state": {
      "_dom_classes": [],
      "_events": [],
      "_jupyter_vue": "IPY_MODEL_e2521c7987974b29aa7fe086f445c08e",
      "_model_module": "jupyter-vue",
      "_model_module_version": "3.0.0-alpha.4",
      "_model_name": "HtmlModel",
      "_view_count": null,
      "_view_module": "jupyter-vue",
      "_view_module_version": "3.0.0-alpha.4",
      "_view_name": "VueView",
      "attributes": {},
      "children": [],
      "class_": null,
      "layout": null,
      "slot": null,
      "style_": "display: none",
      "tag": "span",
      "v_model": "!!disabled!!",
      "v_on": null,
      "v_slots": []
     }
    },
    "c158d9351e1f49199adbbf0ceb66d9e5": {
     "model_module": "@jupyter-widgets/controls",
     "model_module_version": "1.5.0",
     "model_name": "DescriptionStyleModel",
     "state": {
      "_model_module": "@jupyter-widgets/controls",
      "_model_module_version": "1.5.0",
      "_model_name": "DescriptionStyleModel",
      "_view_count": null,
      "_view_module": "@jupyter-widgets/base",
      "_view_module_version": "1.2.0",
      "_view_name": "StyleView",
      "description_width": ""
     }
    },
    "d51e77ec1fde49cda87aa46e18fc8285": {
     "model_module": "@jupyter-widgets/controls",
     "model_module_version": "1.5.0",
     "model_name": "VBoxModel",
     "state": {
      "_dom_classes": [],
      "_model_module": "@jupyter-widgets/controls",
      "_model_module_version": "1.5.0",
      "_model_name": "VBoxModel",
      "_view_count": 1,
      "_view_module": "@jupyter-widgets/controls",
      "_view_module_version": "1.5.0",
      "_view_name": "VBoxView",
      "box_style": "",
      "children": [
       "IPY_MODEL_0e7389f9d7544edf92b0bab60b23bb6c"
      ],
      "layout": "IPY_MODEL_9e1b7a3518234982b6440f2df584c70b"
     }
    }
   }
  }
 },
 "nbformat": 4,
 "nbformat_minor": 0
}
